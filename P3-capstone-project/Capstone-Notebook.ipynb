{
 "cells": [
  {
   "cell_type": "markdown",
   "metadata": {},
   "source": [
    "# Send custom emails to leads with Machine Learning\n",
    "### Capstone project - Machine Learning Engineer Nanodegree\n",
    "\n",
    "# 1. Definition\n",
    "\n",
    "## 1.1 Project Overview\n",
    "\n",
    "I am the founder of a digital agency called DeepIdea Lab. The services we offer are website creation, digital marketing, and graphic design. We have a partner who is sending us leads. The lead details include a description of the project each lead is looking for. This data is automatically pushed into our CRM. The next step is to send an email to the lead using one of our templates depending on the project’s description. However, we would like to automate this part. This is the topic of this capstone project: using machine learning to send a custom email to the lead based on the project’s description.\n",
    "\n",
    "## 1.2. Problem Statement\n",
    "Sending a manually composed email to every lead is time-consuming. We already have a few email templates available to be sent. However, so far, someone needs to read the project description in order to choose the right template. This is a typical natural language processing problem.\n",
    "\n",
    "![Workflow-overview](./img/workflow-overview.png)\n",
    "\n",
    "## 1.3 Metrics\n",
    "Based on the dataset we have, a decent evaluation metrics would be the accuracy of the trained model on the test data. We will get new project descriptions from new leads so the accuracy on test data is a good metric.\n",
    "\n",
    "# 2. Analysis\n",
    "\n",
    "## 2.1 Gathering data\n",
    "\n",
    "Here are the first steps to gather the data and create a dataset.\n",
    "\n",
    "* CRM connection settings\n",
    "* Check the format of the data from the API and explore the content\n",
    "* Create the dataset"
   ]
  },
  {
   "cell_type": "code",
   "execution_count": 1,
   "metadata": {},
   "outputs": [],
   "source": [
    "# import the required modules\n",
    "import requests, json\n",
    "import re\n",
    "import pandas as pd\n",
    "import numpy as np"
   ]
  },
  {
   "cell_type": "markdown",
   "metadata": {},
   "source": [
    "### CRM connection settings\n",
    "\n",
    "This is the configuration to connect to the API."
   ]
  },
  {
   "cell_type": "code",
   "execution_count": 2,
   "metadata": {},
   "outputs": [],
   "source": [
    "# enter your token, domain and view id in config.json.example and rename to config.json\n",
    "with open('config.json', 'r') as f:\n",
    "    config = json.load(f)\n",
    "\n",
    "api_token = config['CONFIG']['TOKEN']\n",
    "domain = config['CONFIG']['FRESHSALES_DOMAIN']\n",
    "view_id = config['CONFIG']['VIEW_ID']"
   ]
  },
  {
   "cell_type": "code",
   "execution_count": 3,
   "metadata": {},
   "outputs": [],
   "source": [
    "# define a function to connect to the Freshsales CRM API\n",
    "def api_call(api_token = api_token, domain = domain, view_id = view_id, page_id_index = 1):\n",
    "    api_url_base = 'https://{}.freshsales.io/api/'.format(domain)\n",
    "    api_lead_request = 'leads/view/{}?page={}'.format(view_id, page_id_index)\n",
    "    api_url = api_url_base + api_lead_request\n",
    "    headers = {'Content-Type': 'application/json',\n",
    "               'Authorization': 'Token token={0}'.format(api_token)}\n",
    "    response = requests.get(api_url, headers=headers)\n",
    "    data = response.json()\n",
    "    \n",
    "    return data"
   ]
  },
  {
   "cell_type": "markdown",
   "metadata": {},
   "source": [
    "### Check the format of the data from the API and explore the content\n",
    "\n",
    "Below we navigate through the result of the CRM's API to see the format we get."
   ]
  },
  {
   "cell_type": "code",
   "execution_count": 4,
   "metadata": {},
   "outputs": [
    {
     "name": "stdout",
     "output_type": "stream",
     "text": [
      "Budget: 6000\n",
      "\n",
      "Title: Création d'entreprise\n",
      "\n",
      "Projet de création site web e-commerce pour  commercialiser.\n",
      "Je souhaiterais une étude tarifaire, mais si possible une maquette et avoir des informations dans les compétences suivantes:\n",
      " - technique (catalogue en ligne, gestion du panier client, gestion des comptes clients, paiements en ligne…),\n",
      "- partie graphique (logo, design, éléments graphiques…),\n",
      "- aspects juridiques (mentions obligatoires, protection des données, conditions générales de vente et d’utilisation…,\n",
      "- maintenance du site et connaître la réactivité en cas de problème.\n",
      "\n",
      "Time limit: 6month\n",
      "\n",
      "\n"
     ]
    }
   ],
   "source": [
    "# explore the data\n",
    "data = api_call()\n",
    "\n",
    "# data = json.dumps(data, indent=2)\n",
    "\n",
    "print (data['leads'][22]['recent_note'])"
   ]
  },
  {
   "cell_type": "code",
   "execution_count": 5,
   "metadata": {},
   "outputs": [],
   "source": [
    "# function to loop over all the leads and extract the notes\n",
    "def get_leads_notes():\n",
    "\n",
    "    leads_id = []\n",
    "    leads_note = []\n",
    "\n",
    "    # for every page of leads\n",
    "    for i in range(api_call()['meta']['total_pages']):\n",
    "        page_index = i + 1\n",
    "        data = api_call(page_id_index = page_index)\n",
    "\n",
    "        # for every lead on the page\n",
    "        for i in range(len(data['leads'])):\n",
    "\n",
    "            lead_id = data['leads'][i]['id']\n",
    "            lead_note = data['leads'][i]['recent_note']\n",
    "\n",
    "            if lead_note:\n",
    "                # drop urls\n",
    "                pattern = r'https?:\\/\\/(www\\.)?[-a-zA-Z0-9@:%._\\+~#=] \\\n",
    "                {1,256}\\.[a-zA-Z0-9()]{1,6}\\b([-a-zA-Z0-9()@:%_\\+.~#?&//=]*)'\n",
    "                match = re.match(pattern, lead_note)\n",
    "                if match:\n",
    "                    lead_note = None\n",
    "\n",
    "            if lead_note:\n",
    "                leads_id.append(lead_id)\n",
    "                leads_note.append(lead_note)\n",
    "                \n",
    "    return leads_id, leads_note"
   ]
  },
  {
   "cell_type": "markdown",
   "metadata": {},
   "source": [
    "### Create the dataset\n",
    "\n",
    "We create a DataFrame with all the project descriptions from the leads."
   ]
  },
  {
   "cell_type": "code",
   "execution_count": 6,
   "metadata": {},
   "outputs": [],
   "source": [
    "leads_id, leads_note = get_leads_notes()\n",
    "\n",
    "leads_data = pd.DataFrame(data={'id': leads_id, 'note': leads_note})"
   ]
  },
  {
   "cell_type": "code",
   "execution_count": 7,
   "metadata": {},
   "outputs": [
    {
     "data": {
      "text/html": [
       "<div>\n",
       "<style scoped>\n",
       "    .dataframe tbody tr th:only-of-type {\n",
       "        vertical-align: middle;\n",
       "    }\n",
       "\n",
       "    .dataframe tbody tr th {\n",
       "        vertical-align: top;\n",
       "    }\n",
       "\n",
       "    .dataframe thead th {\n",
       "        text-align: right;\n",
       "    }\n",
       "</style>\n",
       "<table border=\"1\" class=\"dataframe\">\n",
       "  <thead>\n",
       "    <tr style=\"text-align: right;\">\n",
       "      <th></th>\n",
       "      <th>id</th>\n",
       "      <th>note</th>\n",
       "    </tr>\n",
       "  </thead>\n",
       "  <tbody>\n",
       "    <tr>\n",
       "      <th>0</th>\n",
       "      <td>8011121189</td>\n",
       "      <td>Budget: 300\\n\\nTitle: Sito per pizzeria\\n\\nBuo...</td>\n",
       "    </tr>\n",
       "    <tr>\n",
       "      <th>1</th>\n",
       "      <td>8011389943</td>\n",
       "      <td>Budget: 5000\\n\\nTitle: Espace membre sécurisé ...</td>\n",
       "    </tr>\n",
       "    <tr>\n",
       "      <th>2</th>\n",
       "      <td>8011538684</td>\n",
       "      <td>Budget: 500\\n\\nTitle: Migration d'un nouveau s...</td>\n",
       "    </tr>\n",
       "    <tr>\n",
       "      <th>3</th>\n",
       "      <td>8009863335</td>\n",
       "      <td>Budget: 1\\n\\nTitle: request for a quotation to...</td>\n",
       "    </tr>\n",
       "    <tr>\n",
       "      <th>4</th>\n",
       "      <td>8010613505</td>\n",
       "      <td>Budget: 1000\\n\\nTitle: Mise à jour site web\\n\\...</td>\n",
       "    </tr>\n",
       "  </tbody>\n",
       "</table>\n",
       "</div>"
      ],
      "text/plain": [
       "           id                                               note\n",
       "0  8011121189  Budget: 300\\n\\nTitle: Sito per pizzeria\\n\\nBuo...\n",
       "1  8011389943  Budget: 5000\\n\\nTitle: Espace membre sécurisé ...\n",
       "2  8011538684  Budget: 500\\n\\nTitle: Migration d'un nouveau s...\n",
       "3  8009863335  Budget: 1\\n\\nTitle: request for a quotation to...\n",
       "4  8010613505  Budget: 1000\\n\\nTitle: Mise à jour site web\\n\\..."
      ]
     },
     "execution_count": 7,
     "metadata": {},
     "output_type": "execute_result"
    }
   ],
   "source": [
    "leads_data.head()"
   ]
  },
  {
   "cell_type": "code",
   "execution_count": 8,
   "metadata": {
    "scrolled": true
   },
   "outputs": [
    {
     "name": "stdout",
     "output_type": "stream",
     "text": [
      "Budget: 50\n",
      "\n",
      "Title: Création site internet photographe\n",
      "\n",
      "Je viens de crée un site internet avec wordpress et le thème Enfold. Je souhaiterai crée des galeries photos avec la possibilité de les commander en ligne directement.\n",
      "Par exemple : En ouvrant un album, nous voyons toutes les photos et sur chaque photos, nous pouvons cliquer sur panier et choisir le format désiré.\n",
      "\n",
      "Time limit: as_soon_as_possible\n",
      "\n",
      "\n"
     ]
    }
   ],
   "source": [
    "# see a sample of the data\n",
    "data_sample = leads_data.iloc[50,1]\n",
    "print(data_sample)"
   ]
  },
  {
   "cell_type": "markdown",
   "metadata": {},
   "source": [
    "## 2.2 Data pre-processing\n",
    "\n",
    "The raw data is not ready to be sent to an estimator yet. We need to process the data as follows:\n",
    "\n",
    "* Cleaning of the data\n",
    "* Export to CSV for labeling\n",
    "* Import the labeled CSV\n",
    "* Reduce the number of classes\n",
    "* Detect the language of the text\n",
    "* Keep only French text\n",
    "* Tokenization\n",
    "* Bag-of-Words features\n",
    "* Save the processed training dataset locally\n",
    "\n",
    "\n",
    "### Cleaning the data"
   ]
  },
  {
   "cell_type": "code",
   "execution_count": 9,
   "metadata": {},
   "outputs": [],
   "source": [
    "def cleaning_data(data, symbols = False):\n",
    "    data = re.sub(r'([a-zA-Z0-9_.+-]+@[a-zA-Z0-9-]+\\.[a-zA-Z0-9-.]+)', '', data) # Remove email\n",
    "    data = data.replace('\\r', '').replace('\\n', ' ').replace('  ', ' ')\n",
    "    data = re.sub(r'Budget: .* Title: ', '', data) # Remove \"Budget\" \n",
    "    data = re.sub(r' Time limit: .*', '', data) # Remove \"Time limit\"\n",
    "    data = re.sub(r'  +', ' ', data) # Remove extra space\n",
    "    \n",
    "    if symbols == False:\n",
    "        data = re.sub(r\"[^a-zA-ZÀ-ÿ]\", \" \", data.lower()) # Remove symbols and convert to lower case\n",
    "\n",
    "    return data"
   ]
  },
  {
   "cell_type": "code",
   "execution_count": 10,
   "metadata": {},
   "outputs": [
    {
     "name": "stdout",
     "output_type": "stream",
     "text": [
      "Création site internet photographe Je viens de crée un site internet avec wordpress et le thème Enfold. Je souhaiterai crée des galeries photos avec la possibilité de les commander en ligne directement. Par exemple : En ouvrant un album, nous voyons toutes les photos et sur chaque photos, nous pouvons cliquer sur panier et choisir le format désiré.\n"
     ]
    }
   ],
   "source": [
    "# explore a sample of the data after cleaning\n",
    "# but keep the symbols (easier to read the text for labeling)\n",
    "\n",
    "print(cleaning_data(data_sample, symbols = True))"
   ]
  },
  {
   "cell_type": "code",
   "execution_count": 11,
   "metadata": {
    "scrolled": true
   },
   "outputs": [
    {
     "name": "stdout",
     "output_type": "stream",
     "text": [
      "There are 86 rows and 2 columns before cleaning the dataset.\n",
      "There are 86 rows and 2 columns after dropping missing value in the dataset.\n"
     ]
    },
    {
     "data": {
      "text/html": [
       "<div>\n",
       "<style scoped>\n",
       "    .dataframe tbody tr th:only-of-type {\n",
       "        vertical-align: middle;\n",
       "    }\n",
       "\n",
       "    .dataframe tbody tr th {\n",
       "        vertical-align: top;\n",
       "    }\n",
       "\n",
       "    .dataframe thead th {\n",
       "        text-align: right;\n",
       "    }\n",
       "</style>\n",
       "<table border=\"1\" class=\"dataframe\">\n",
       "  <thead>\n",
       "    <tr style=\"text-align: right;\">\n",
       "      <th></th>\n",
       "      <th>id</th>\n",
       "      <th>note</th>\n",
       "    </tr>\n",
       "  </thead>\n",
       "  <tbody>\n",
       "    <tr>\n",
       "      <th>0</th>\n",
       "      <td>8011121189</td>\n",
       "      <td>Budget: 300\\n\\nTitle: Sito per pizzeria\\n\\nBuo...</td>\n",
       "    </tr>\n",
       "    <tr>\n",
       "      <th>1</th>\n",
       "      <td>8011389943</td>\n",
       "      <td>Budget: 5000\\n\\nTitle: Espace membre sécurisé ...</td>\n",
       "    </tr>\n",
       "    <tr>\n",
       "      <th>2</th>\n",
       "      <td>8011538684</td>\n",
       "      <td>Budget: 500\\n\\nTitle: Migration d'un nouveau s...</td>\n",
       "    </tr>\n",
       "    <tr>\n",
       "      <th>3</th>\n",
       "      <td>8009863335</td>\n",
       "      <td>Budget: 1\\n\\nTitle: request for a quotation to...</td>\n",
       "    </tr>\n",
       "    <tr>\n",
       "      <th>4</th>\n",
       "      <td>8010613505</td>\n",
       "      <td>Budget: 1000\\n\\nTitle: Mise à jour site web\\n\\...</td>\n",
       "    </tr>\n",
       "  </tbody>\n",
       "</table>\n",
       "</div>"
      ],
      "text/plain": [
       "           id                                               note\n",
       "0  8011121189  Budget: 300\\n\\nTitle: Sito per pizzeria\\n\\nBuo...\n",
       "1  8011389943  Budget: 5000\\n\\nTitle: Espace membre sécurisé ...\n",
       "2  8011538684  Budget: 500\\n\\nTitle: Migration d'un nouveau s...\n",
       "3  8009863335  Budget: 1\\n\\nTitle: request for a quotation to...\n",
       "4  8010613505  Budget: 1000\\n\\nTitle: Mise à jour site web\\n\\..."
      ]
     },
     "execution_count": 11,
     "metadata": {},
     "output_type": "execute_result"
    }
   ],
   "source": [
    "r, c = leads_data.shape\n",
    "print(\"There are {} rows and {} columns before cleaning the dataset.\".format(r, c))\n",
    "\n",
    "# drop if row is missing data\n",
    "clean_leads_data = leads_data.dropna()\n",
    "r, c = clean_leads_data.shape\n",
    "print(\"There are {} rows and {} columns after dropping missing value in the dataset.\".format(r, c))\n",
    "\n",
    "data = clean_leads_data\n",
    "data.head()"
   ]
  },
  {
   "cell_type": "code",
   "execution_count": 12,
   "metadata": {
    "scrolled": true
   },
   "outputs": [
    {
     "data": {
      "text/html": [
       "<div>\n",
       "<style scoped>\n",
       "    .dataframe tbody tr th:only-of-type {\n",
       "        vertical-align: middle;\n",
       "    }\n",
       "\n",
       "    .dataframe tbody tr th {\n",
       "        vertical-align: top;\n",
       "    }\n",
       "\n",
       "    .dataframe thead th {\n",
       "        text-align: right;\n",
       "    }\n",
       "</style>\n",
       "<table border=\"1\" class=\"dataframe\">\n",
       "  <thead>\n",
       "    <tr style=\"text-align: right;\">\n",
       "      <th></th>\n",
       "      <th>id</th>\n",
       "      <th>note</th>\n",
       "    </tr>\n",
       "  </thead>\n",
       "  <tbody>\n",
       "    <tr>\n",
       "      <th>0</th>\n",
       "      <td>8011121189</td>\n",
       "      <td>Sito per pizzeria Buongiorno un sito semplice ...</td>\n",
       "    </tr>\n",
       "    <tr>\n",
       "      <th>1</th>\n",
       "      <td>8011389943</td>\n",
       "      <td>Espace membre sécurisé et moteur de recherche ...</td>\n",
       "    </tr>\n",
       "    <tr>\n",
       "      <th>2</th>\n",
       "      <td>8011538684</td>\n",
       "      <td>Migration d'un nouveau site Jimdo à la place d...</td>\n",
       "    </tr>\n",
       "    <tr>\n",
       "      <th>3</th>\n",
       "      <td>8009863335</td>\n",
       "      <td>request for a quotation to re design a website...</td>\n",
       "    </tr>\n",
       "    <tr>\n",
       "      <th>4</th>\n",
       "      <td>8010613505</td>\n",
       "      <td>Mise à jour site web Bonjour, Suite à une rési...</td>\n",
       "    </tr>\n",
       "  </tbody>\n",
       "</table>\n",
       "</div>"
      ],
      "text/plain": [
       "           id                                               note\n",
       "0  8011121189  Sito per pizzeria Buongiorno un sito semplice ...\n",
       "1  8011389943  Espace membre sécurisé et moteur de recherche ...\n",
       "2  8011538684  Migration d'un nouveau site Jimdo à la place d...\n",
       "3  8009863335  request for a quotation to re design a website...\n",
       "4  8010613505  Mise à jour site web Bonjour, Suite à une rési..."
      ]
     },
     "execution_count": 12,
     "metadata": {},
     "output_type": "execute_result"
    }
   ],
   "source": [
    "data_for_labeling = clean_leads_data\n",
    "\n",
    "for index, row in data_for_labeling.iterrows():\n",
    "    data_for_labeling.iloc[index, 1] = cleaning_data(row['note'], symbols = True)\n",
    "    \n",
    "data_for_labeling.head()"
   ]
  },
  {
   "cell_type": "markdown",
   "metadata": {},
   "source": [
    "### Export to CSV for labeling\n",
    "\n",
    "We wil export the dataset to a CSV file so we can manually label each entry with the correct category. "
   ]
  },
  {
   "cell_type": "code",
   "execution_count": 13,
   "metadata": {},
   "outputs": [],
   "source": [
    "import os\n",
    "\n",
    "data_dir = './data' # The folder we will use for storing data\n",
    "if not os.path.exists(data_dir): # Make sure that the folder exists\n",
    "    os.makedirs(data_dir)\n",
    "\n",
    "data_for_labeling.to_csv(os.path.join(data_dir, 'leads.csv'), header=False, index=False)"
   ]
  },
  {
   "cell_type": "markdown",
   "metadata": {},
   "source": [
    "After exporting the CSV, the database has been manually labeled with a spreadsheet and has been converted again to a new CSV file.\n",
    "\n",
    "### Import the labeled CSV"
   ]
  },
  {
   "cell_type": "code",
   "execution_count": 110,
   "metadata": {
    "scrolled": true
   },
   "outputs": [
    {
     "data": {
      "text/html": [
       "<div>\n",
       "<style scoped>\n",
       "    .dataframe tbody tr th:only-of-type {\n",
       "        vertical-align: middle;\n",
       "    }\n",
       "\n",
       "    .dataframe tbody tr th {\n",
       "        vertical-align: top;\n",
       "    }\n",
       "\n",
       "    .dataframe thead th {\n",
       "        text-align: right;\n",
       "    }\n",
       "</style>\n",
       "<table border=\"1\" class=\"dataframe\">\n",
       "  <thead>\n",
       "    <tr style=\"text-align: right;\">\n",
       "      <th></th>\n",
       "      <th>id</th>\n",
       "      <th>note</th>\n",
       "      <th>category</th>\n",
       "    </tr>\n",
       "  </thead>\n",
       "  <tbody>\n",
       "    <tr>\n",
       "      <th>0</th>\n",
       "      <td>8011121189</td>\n",
       "      <td>Sito per pizzeria Buongiorno un sito semplice ...</td>\n",
       "      <td>website</td>\n",
       "    </tr>\n",
       "    <tr>\n",
       "      <th>1</th>\n",
       "      <td>8011389943</td>\n",
       "      <td>Espace membre sécurisé et moteur de recherche ...</td>\n",
       "      <td>website</td>\n",
       "    </tr>\n",
       "    <tr>\n",
       "      <th>2</th>\n",
       "      <td>8011538684</td>\n",
       "      <td>Migration d'un nouveau site Jimdo à la place d...</td>\n",
       "      <td>website</td>\n",
       "    </tr>\n",
       "    <tr>\n",
       "      <th>3</th>\n",
       "      <td>8009863335</td>\n",
       "      <td>request for a quotation to re design a website...</td>\n",
       "      <td>website</td>\n",
       "    </tr>\n",
       "    <tr>\n",
       "      <th>4</th>\n",
       "      <td>8010613505</td>\n",
       "      <td>Mise à jour site web Bonjour, Suite à une rési...</td>\n",
       "      <td>website</td>\n",
       "    </tr>\n",
       "  </tbody>\n",
       "</table>\n",
       "</div>"
      ],
      "text/plain": [
       "           id                                               note category\n",
       "0  8011121189  Sito per pizzeria Buongiorno un sito semplice ...  website\n",
       "1  8011389943  Espace membre sécurisé et moteur de recherche ...  website\n",
       "2  8011538684  Migration d'un nouveau site Jimdo à la place d...  website\n",
       "3  8009863335  request for a quotation to re design a website...  website\n",
       "4  8010613505  Mise à jour site web Bonjour, Suite à une rési...  website"
      ]
     },
     "execution_count": 110,
     "metadata": {},
     "output_type": "execute_result"
    }
   ],
   "source": [
    "# add the name of columns\n",
    "column_names = []\n",
    "for column in data_for_labeling.columns:\n",
    "    column_names.append(column)\n",
    "column_names.append('category')\n",
    "\n",
    "labeled_leads = pd.read_csv(os.path.join(data_dir, 'labeled_leads.csv'), header=None, names=column_names)\n",
    "\n",
    "labeled_leads.head(5)"
   ]
  },
  {
   "cell_type": "markdown",
   "metadata": {},
   "source": [
    "It is important to see if the number of values in each category is more or less equal. Otherwise it will create a bias during the training."
   ]
  },
  {
   "cell_type": "code",
   "execution_count": 111,
   "metadata": {
    "scrolled": true
   },
   "outputs": [],
   "source": [
    "%config InlineBackend.figure_format = 'retina'\n",
    "import matplotlib.pyplot as plt"
   ]
  },
  {
   "cell_type": "code",
   "execution_count": 112,
   "metadata": {},
   "outputs": [
    {
     "data": {
      "image/png": "[encoded data removed]",
      "text/plain": [
       "<Figure size 432x288 with 1 Axes>"
      ]
     },
     "metadata": {
      "image/png": {
       "height": 250,
       "width": 370
      }
     },
     "output_type": "display_data"
    }
   ],
   "source": [
    "# see the distribution of the data\n",
    "labeled_leads['category'].value_counts().plot(kind='bar', rot=0);"
   ]
  },
  {
   "cell_type": "markdown",
   "metadata": {},
   "source": [
    "As we can see the category 'website' is much bigger than all the others.\n",
    "In order to create better prediction without overfitting we need to make the entries in each category more even.\n",
    "\n",
    "Let's create new categories as follows:\n",
    "* website\n",
    "* maintenance + seo\n",
    "* migration\n",
    "* custom + application\n",
    "\n",
    "Note that we should also check the language of the project description. We will do that later.\n",
    "\n",
    "### Reduce the number of classes\n",
    "\n",
    "We reduce the number of categories to 4 (instead of 6 appearing in the labeled CSV)."
   ]
  },
  {
   "cell_type": "code",
   "execution_count": 113,
   "metadata": {},
   "outputs": [],
   "source": [
    "category_bundle = {'website' : 0,\n",
    "                   'maintenance' : 1,\n",
    "                   'seo' : 1,\n",
    "                   'migration' : 2,\n",
    "                   'custom' : 3,\n",
    "                   'application' : 3}"
   ]
  },
  {
   "cell_type": "code",
   "execution_count": 114,
   "metadata": {},
   "outputs": [],
   "source": [
    "for index, row in labeled_leads.iterrows():\n",
    "    labeled_leads.iloc[index, 2] = category_bundle[row['category']]"
   ]
  },
  {
   "cell_type": "code",
   "execution_count": 115,
   "metadata": {
    "scrolled": false
   },
   "outputs": [
    {
     "name": "stdout",
     "output_type": "stream",
     "text": [
      "0    46\n",
      "2    15\n",
      "3     9\n",
      "1     8\n",
      "Name: category, dtype: int64\n"
     ]
    },
    {
     "data": {
      "image/png": "[encoded data removed]",
      "text/plain": [
       "<Figure size 432x288 with 1 Axes>"
      ]
     },
     "metadata": {
      "image/png": {
       "height": 250,
       "width": 370
      }
     },
     "output_type": "display_data"
    }
   ],
   "source": [
    "print(labeled_leads['category'].value_counts())\n",
    "labeled_leads['category'].value_counts().plot(kind='bar', rot=0);"
   ]
  },
  {
   "cell_type": "markdown",
   "metadata": {},
   "source": [
    "The distribution of the data is a bit better now since we bundle the categories together.\n",
    "Let's see below an extract of our new dataset with the new categories."
   ]
  },
  {
   "cell_type": "code",
   "execution_count": 116,
   "metadata": {
    "scrolled": true
   },
   "outputs": [
    {
     "data": {
      "text/html": [
       "<div>\n",
       "<style scoped>\n",
       "    .dataframe tbody tr th:only-of-type {\n",
       "        vertical-align: middle;\n",
       "    }\n",
       "\n",
       "    .dataframe tbody tr th {\n",
       "        vertical-align: top;\n",
       "    }\n",
       "\n",
       "    .dataframe thead th {\n",
       "        text-align: right;\n",
       "    }\n",
       "</style>\n",
       "<table border=\"1\" class=\"dataframe\">\n",
       "  <thead>\n",
       "    <tr style=\"text-align: right;\">\n",
       "      <th></th>\n",
       "      <th>id</th>\n",
       "      <th>note</th>\n",
       "      <th>category</th>\n",
       "    </tr>\n",
       "  </thead>\n",
       "  <tbody>\n",
       "    <tr>\n",
       "      <th>0</th>\n",
       "      <td>8011121189</td>\n",
       "      <td>Sito per pizzeria Buongiorno un sito semplice ...</td>\n",
       "      <td>0</td>\n",
       "    </tr>\n",
       "    <tr>\n",
       "      <th>1</th>\n",
       "      <td>8011389943</td>\n",
       "      <td>Espace membre sécurisé et moteur de recherche ...</td>\n",
       "      <td>0</td>\n",
       "    </tr>\n",
       "    <tr>\n",
       "      <th>2</th>\n",
       "      <td>8011538684</td>\n",
       "      <td>Migration d'un nouveau site Jimdo à la place d...</td>\n",
       "      <td>0</td>\n",
       "    </tr>\n",
       "    <tr>\n",
       "      <th>3</th>\n",
       "      <td>8009863335</td>\n",
       "      <td>request for a quotation to re design a website...</td>\n",
       "      <td>0</td>\n",
       "    </tr>\n",
       "    <tr>\n",
       "      <th>4</th>\n",
       "      <td>8010613505</td>\n",
       "      <td>Mise à jour site web Bonjour, Suite à une rési...</td>\n",
       "      <td>0</td>\n",
       "    </tr>\n",
       "    <tr>\n",
       "      <th>5</th>\n",
       "      <td>8009584580</td>\n",
       "      <td>Mise à jour d'un site internet sous WordPress ...</td>\n",
       "      <td>0</td>\n",
       "    </tr>\n",
       "    <tr>\n",
       "      <th>6</th>\n",
       "      <td>8010414743</td>\n",
       "      <td>- la boutique sans plastique site web de vent...</td>\n",
       "      <td>0</td>\n",
       "    </tr>\n",
       "    <tr>\n",
       "      <th>7</th>\n",
       "      <td>8009725719</td>\n",
       "      <td>Fondation  Site internet relativement simple. ...</td>\n",
       "      <td>0</td>\n",
       "    </tr>\n",
       "    <tr>\n",
       "      <th>8</th>\n",
       "      <td>8009572001</td>\n",
       "      <td>MIGRATION J'ai conçu un nouveau site internet ...</td>\n",
       "      <td>2</td>\n",
       "    </tr>\n",
       "    <tr>\n",
       "      <th>9</th>\n",
       "      <td>8009816679</td>\n",
       "      <td>Transfert hébergeur OVH vers Infomaniak Bonjou...</td>\n",
       "      <td>2</td>\n",
       "    </tr>\n",
       "  </tbody>\n",
       "</table>\n",
       "</div>"
      ],
      "text/plain": [
       "           id                                               note  category\n",
       "0  8011121189  Sito per pizzeria Buongiorno un sito semplice ...         0\n",
       "1  8011389943  Espace membre sécurisé et moteur de recherche ...         0\n",
       "2  8011538684  Migration d'un nouveau site Jimdo à la place d...         0\n",
       "3  8009863335  request for a quotation to re design a website...         0\n",
       "4  8010613505  Mise à jour site web Bonjour, Suite à une rési...         0\n",
       "5  8009584580  Mise à jour d'un site internet sous WordPress ...         0\n",
       "6  8010414743   - la boutique sans plastique site web de vent...         0\n",
       "7  8009725719  Fondation  Site internet relativement simple. ...         0\n",
       "8  8009572001  MIGRATION J'ai conçu un nouveau site internet ...         2\n",
       "9  8009816679  Transfert hébergeur OVH vers Infomaniak Bonjou...         2"
      ]
     },
     "execution_count": 116,
     "metadata": {},
     "output_type": "execute_result"
    }
   ],
   "source": [
    "labeled_leads.head(10)"
   ]
  },
  {
   "cell_type": "markdown",
   "metadata": {},
   "source": [
    "### Detect the language of the text\n",
    "\n",
    "Next step of the data cleaning is to verify if the data is only in one language and if not we only keep the main language for training.\n",
    "\n",
    "To do so we use the module langdetect."
   ]
  },
  {
   "cell_type": "code",
   "execution_count": 117,
   "metadata": {},
   "outputs": [
    {
     "name": "stdout",
     "output_type": "stream",
     "text": [
      "Requirement already satisfied: langdetect in /home/ec2-user/anaconda3/envs/python3/lib/python3.6/site-packages (1.0.8)\n",
      "Requirement already satisfied: six in /home/ec2-user/anaconda3/envs/python3/lib/python3.6/site-packages (from langdetect) (1.11.0)\n",
      "\u001b[33mYou are using pip version 10.0.1, however version 20.0.2 is available.\n",
      "You should consider upgrading via the 'pip install --upgrade pip' command.\u001b[0m\n"
     ]
    }
   ],
   "source": [
    "!pip install langdetect"
   ]
  },
  {
   "cell_type": "code",
   "execution_count": 118,
   "metadata": {},
   "outputs": [],
   "source": [
    "from langdetect import detect\n",
    "\n",
    "lang_iso = {\"ar\" : \"arabic\",\n",
    "            \"da\" : \"danish\",\n",
    "            \"nl\" : \"dutch\",\n",
    "            \"en\" : \"english\",\n",
    "            \"fi\" : \"finnish\",\n",
    "            \"fr\" : \"french\",\n",
    "            \"de\" : \"german\",\n",
    "            \"hu\" : \"hungarian\",\n",
    "            \"it\" : \"italian\",\n",
    "            \"no\" : \"norwegian\",\n",
    "            \"pt\" : \"portuguese\",\n",
    "            \"ro\" : \"romanian\",\n",
    "            \"ru\" : \"russian\",\n",
    "            \"es\" : \"spanish\",\n",
    "            \"sv\" : \"swedish\"}"
   ]
  },
  {
   "cell_type": "code",
   "execution_count": 119,
   "metadata": {
    "scrolled": true
   },
   "outputs": [
    {
     "data": {
      "text/html": [
       "<div>\n",
       "<style scoped>\n",
       "    .dataframe tbody tr th:only-of-type {\n",
       "        vertical-align: middle;\n",
       "    }\n",
       "\n",
       "    .dataframe tbody tr th {\n",
       "        vertical-align: top;\n",
       "    }\n",
       "\n",
       "    .dataframe thead th {\n",
       "        text-align: right;\n",
       "    }\n",
       "</style>\n",
       "<table border=\"1\" class=\"dataframe\">\n",
       "  <thead>\n",
       "    <tr style=\"text-align: right;\">\n",
       "      <th></th>\n",
       "      <th>id</th>\n",
       "      <th>note</th>\n",
       "      <th>category</th>\n",
       "      <th>lang</th>\n",
       "    </tr>\n",
       "  </thead>\n",
       "  <tbody>\n",
       "    <tr>\n",
       "      <th>0</th>\n",
       "      <td>8011121189</td>\n",
       "      <td>Sito per pizzeria Buongiorno un sito semplice ...</td>\n",
       "      <td>0</td>\n",
       "      <td>italian</td>\n",
       "    </tr>\n",
       "    <tr>\n",
       "      <th>1</th>\n",
       "      <td>8011389943</td>\n",
       "      <td>Espace membre sécurisé et moteur de recherche ...</td>\n",
       "      <td>0</td>\n",
       "      <td>french</td>\n",
       "    </tr>\n",
       "    <tr>\n",
       "      <th>2</th>\n",
       "      <td>8011538684</td>\n",
       "      <td>Migration d'un nouveau site Jimdo à la place d...</td>\n",
       "      <td>0</td>\n",
       "      <td>french</td>\n",
       "    </tr>\n",
       "    <tr>\n",
       "      <th>3</th>\n",
       "      <td>8009863335</td>\n",
       "      <td>request for a quotation to re design a website...</td>\n",
       "      <td>0</td>\n",
       "      <td>english</td>\n",
       "    </tr>\n",
       "    <tr>\n",
       "      <th>4</th>\n",
       "      <td>8010613505</td>\n",
       "      <td>Mise à jour site web Bonjour, Suite à une rési...</td>\n",
       "      <td>0</td>\n",
       "      <td>french</td>\n",
       "    </tr>\n",
       "  </tbody>\n",
       "</table>\n",
       "</div>"
      ],
      "text/plain": [
       "           id                                               note  category  \\\n",
       "0  8011121189  Sito per pizzeria Buongiorno un sito semplice ...         0   \n",
       "1  8011389943  Espace membre sécurisé et moteur de recherche ...         0   \n",
       "2  8011538684  Migration d'un nouveau site Jimdo à la place d...         0   \n",
       "3  8009863335  request for a quotation to re design a website...         0   \n",
       "4  8010613505  Mise à jour site web Bonjour, Suite à une rési...         0   \n",
       "\n",
       "      lang  \n",
       "0  italian  \n",
       "1   french  \n",
       "2   french  \n",
       "3  english  \n",
       "4   french  "
      ]
     },
     "execution_count": 119,
     "metadata": {},
     "output_type": "execute_result"
    }
   ],
   "source": [
    "labeled_leads['lang'] = np.nan\n",
    "for index in range(labeled_leads.shape[0]):\n",
    "    labeled_leads.loc[index, 'lang'] = lang_iso[detect(labeled_leads.loc[index, 'note'])]\n",
    "\n",
    "labeled_leads.head()"
   ]
  },
  {
   "cell_type": "code",
   "execution_count": 120,
   "metadata": {
    "scrolled": true
   },
   "outputs": [
    {
     "name": "stdout",
     "output_type": "stream",
     "text": [
      "french     70\n",
      "english     4\n",
      "italian     2\n",
      "german      2\n",
      "Name: lang, dtype: int64\n"
     ]
    },
    {
     "data": {
      "image/png": "[encoded data removed]",
      "text/plain": [
       "<Figure size 432x288 with 1 Axes>"
      ]
     },
     "metadata": {
      "image/png": {
       "height": 250,
       "width": 370
      }
     },
     "output_type": "display_data"
    }
   ],
   "source": [
    "print(labeled_leads['lang'].value_counts())\n",
    "labeled_leads['lang'].value_counts().plot(kind='bar', rot=0);"
   ]
  },
  {
   "cell_type": "markdown",
   "metadata": {},
   "source": [
    "We see that the main language is French. To do our training we will drop the other languages.\n",
    "\n",
    "### Keep only French text"
   ]
  },
  {
   "cell_type": "code",
   "execution_count": 121,
   "metadata": {
    "scrolled": true
   },
   "outputs": [
    {
     "name": "stdout",
     "output_type": "stream",
     "text": [
      "french    70\n",
      "Name: lang, dtype: int64\n"
     ]
    }
   ],
   "source": [
    "# we keep only french text\n",
    "indexNames = labeled_leads[labeled_leads['lang'] != 'french'].index\n",
    "labeled_leads.drop(indexNames , inplace=True)\n",
    "\n",
    "print(labeled_leads['lang'].value_counts())\n",
    "\n",
    "#labeled_leads.head()"
   ]
  },
  {
   "cell_type": "code",
   "execution_count": 122,
   "metadata": {},
   "outputs": [
    {
     "data": {
      "text/html": [
       "<div>\n",
       "<style scoped>\n",
       "    .dataframe tbody tr th:only-of-type {\n",
       "        vertical-align: middle;\n",
       "    }\n",
       "\n",
       "    .dataframe tbody tr th {\n",
       "        vertical-align: top;\n",
       "    }\n",
       "\n",
       "    .dataframe thead th {\n",
       "        text-align: right;\n",
       "    }\n",
       "</style>\n",
       "<table border=\"1\" class=\"dataframe\">\n",
       "  <thead>\n",
       "    <tr style=\"text-align: right;\">\n",
       "      <th></th>\n",
       "      <th>category</th>\n",
       "      <th>note</th>\n",
       "    </tr>\n",
       "  </thead>\n",
       "  <tbody>\n",
       "    <tr>\n",
       "      <th>1</th>\n",
       "      <td>0</td>\n",
       "      <td>Espace membre sécurisé et moteur de recherche ...</td>\n",
       "    </tr>\n",
       "    <tr>\n",
       "      <th>2</th>\n",
       "      <td>0</td>\n",
       "      <td>Migration d'un nouveau site Jimdo à la place d...</td>\n",
       "    </tr>\n",
       "    <tr>\n",
       "      <th>4</th>\n",
       "      <td>0</td>\n",
       "      <td>Mise à jour site web Bonjour, Suite à une rési...</td>\n",
       "    </tr>\n",
       "    <tr>\n",
       "      <th>5</th>\n",
       "      <td>0</td>\n",
       "      <td>Mise à jour d'un site internet sous WordPress ...</td>\n",
       "    </tr>\n",
       "    <tr>\n",
       "      <th>6</th>\n",
       "      <td>0</td>\n",
       "      <td>- la boutique sans plastique site web de vent...</td>\n",
       "    </tr>\n",
       "  </tbody>\n",
       "</table>\n",
       "</div>"
      ],
      "text/plain": [
       "   category                                               note\n",
       "1         0  Espace membre sécurisé et moteur de recherche ...\n",
       "2         0  Migration d'un nouveau site Jimdo à la place d...\n",
       "4         0  Mise à jour site web Bonjour, Suite à une rési...\n",
       "5         0  Mise à jour d'un site internet sous WordPress ...\n",
       "6         0   - la boutique sans plastique site web de vent..."
      ]
     },
     "execution_count": 122,
     "metadata": {},
     "output_type": "execute_result"
    }
   ],
   "source": [
    "# drop columns we don't need anymore\n",
    "labeled_leads_out = labeled_leads[['category', 'note']].copy()\n",
    "labeled_leads_out.head()"
   ]
  },
  {
   "cell_type": "markdown",
   "metadata": {},
   "source": [
    "Now that we have a clean dataset with labeled classes, we can process the text.\n",
    "\n",
    "### Tokenization\n",
    "\n",
    "It's pretty difficult for a ML algorithm to process raw texts.\n",
    "\n",
    "So the method we are using is creating tokens from words in the text."
   ]
  },
  {
   "cell_type": "code",
   "execution_count": 123,
   "metadata": {},
   "outputs": [],
   "source": [
    "import nltk\n",
    "from nltk.corpus import stopwords\n",
    "from nltk.stem.porter import *\n",
    "\n",
    "def lead_note_to_words(note):\n",
    "    nltk.download(\"stopwords\", quiet=True)\n",
    "    stemmer = PorterStemmer()\n",
    "    \n",
    "    data = cleaning_data(note) # Clean the text\n",
    "    lang = lang_iso[detect(data)] # Detect the language of the text\n",
    "    words = data.split() # Split string into words\n",
    "\n",
    "    words = [w for w in words if w not in stopwords.words(lang)] # Remove stopwords\n",
    "    words = [PorterStemmer().stem(w) for w in words] # stem\n",
    "\n",
    "    return words"
   ]
  },
  {
   "cell_type": "code",
   "execution_count": 124,
   "metadata": {
    "scrolled": true
   },
   "outputs": [],
   "source": [
    "# remove the name of the columns\n",
    "labeled_leads_out.to_csv(os.path.join(data_dir, 'labeled_leads_out.csv'), header=False, index=False)\n",
    "data = pd.read_csv(os.path.join(data_dir, 'labeled_leads_out.csv'))\n",
    "data_values = data.values"
   ]
  },
  {
   "cell_type": "code",
   "execution_count": 125,
   "metadata": {
    "scrolled": true
   },
   "outputs": [
    {
     "name": "stdout",
     "output_type": "stream",
     "text": [
      "See below an example of the tokens\n",
      "\n",
      "['migrat', 'nouveau', 'site', 'jimdo', 'place', 'ancien', 'récupérat', 'adress', 'mail', 'bonjour', 'indépend', 'immobili', 'depui', 'an', 'depui', 'quelqu', 'moi', 'site', 'fonctionn', 'plu', 'copin', 'a', 'fait', 'gabarit', 'nouveau', 'site', 'jimdo', 'a', 'dû', 'partir', 'étranger', 'sort', 'fair', 'switcher', 'tout', 'cela', 'mainten', 'essayé', 'aussi', 'comprend', 'rien', 'dn', 'domain', 'registr', 'hébergeur', 'chinoi', 'sai', 'just', 'eurodn', 'code', 'jimdo', 'etc']\n"
     ]
    }
   ],
   "source": [
    "# labels in the 1st column\n",
    "data_y = data_values[:, 0]\n",
    "\n",
    "# data in the 2nd column\n",
    "data_X = [lead_note_to_words(note) for note in data_values[:, 1]]\n",
    "\n",
    "print('See below an example of the tokens\\n')\n",
    "print(data_X[0])"
   ]
  },
  {
   "cell_type": "code",
   "execution_count": 126,
   "metadata": {},
   "outputs": [],
   "source": [
    "for i in range(len(data_X)):\n",
    "    data_X[i] = ' '.join([str(elem) for elem in data_X[i]]) "
   ]
  },
  {
   "cell_type": "code",
   "execution_count": 127,
   "metadata": {},
   "outputs": [
    {
     "name": "stdout",
     "output_type": "stream",
     "text": [
      "See below the same example after concatenate the tokens together again:\n",
      "\n",
      "migrat nouveau site jimdo place ancien récupérat adress mail bonjour indépend immobili depui an depui quelqu moi site fonctionn plu copin a fait gabarit nouveau site jimdo a dû partir étranger sort fair switcher tout cela mainten essayé aussi comprend rien dn domain registr hébergeur chinoi sai just eurodn code jimdo etc\n"
     ]
    }
   ],
   "source": [
    "print('See below the same example after concatenate the tokens together again:\\n')\n",
    "print(data_X[0])"
   ]
  },
  {
   "cell_type": "markdown",
   "metadata": {},
   "source": [
    "### Bag-of-Words features\n",
    "\n",
    "We will now use the Bag-of-Words method. Learn more about that on [Wikipedia](https://en.wikipedia.org/wiki/Bag-of-words_model)."
   ]
  },
  {
   "cell_type": "code",
   "execution_count": 128,
   "metadata": {},
   "outputs": [],
   "source": [
    "from sklearn.feature_extraction.text import CountVectorizer\n",
    "\n",
    "def extract_BoW_features(words_train, words_test, vocabulary_size=40):\n",
    "    \"\"\"Extract Bag-of-Words for a given set of documents, already preprocessed into words.\"\"\"\n",
    "    \n",
    "    # Fit a vectorizer to training documents and use it to transform them\n",
    "    vectorizer = CountVectorizer(max_features=vocabulary_size)\n",
    "    features_train = vectorizer.fit_transform(words_train).toarray()\n",
    "\n",
    "    # Apply the same vectorizer to transform the test documents (ignore unknown words)\n",
    "    features_test = vectorizer.transform(words_test).toarray()\n",
    "    \n",
    "    vocabulary = vectorizer.vocabulary_\n",
    "    \n",
    "    # Return both the extracted features as well as the vocabulary\n",
    "    return features_train, features_test, vocabulary"
   ]
  },
  {
   "cell_type": "code",
   "execution_count": 129,
   "metadata": {},
   "outputs": [],
   "source": [
    "from sklearn.model_selection import train_test_split\n",
    "\n",
    "train_X, test_X, train_y, test_y = train_test_split(data_X, data_y, test_size=0.15, random_state=42)"
   ]
  },
  {
   "cell_type": "code",
   "execution_count": 130,
   "metadata": {},
   "outputs": [],
   "source": [
    "# Extract Bag-of-Words features for both training and test datasets\n",
    "train_X, test_X, vocabulary = extract_BoW_features(train_X, test_X)"
   ]
  },
  {
   "cell_type": "code",
   "execution_count": 131,
   "metadata": {},
   "outputs": [
    {
     "name": "stdout",
     "output_type": "stream",
     "text": [
      "{'création': 8, 'site': 34, 'web': 37, 'actuel': 0, 'bonjour': 5, 'créer': 9, 'chez': 6, 'plu': 29, 'import': 19, 'lign': 24, 'besoin': 4, 'être': 39, 'sou': 35, 'gestion': 16, 'tout': 36, 'migrat': 26, 'internet': 21, 'afin': 1, 'fair': 14, 'lien': 23, 'serveur': 32, 'infomaniak': 20, 'wordpress': 38, 'page': 28, 'pouvoir': 30, 'merci': 25, 'mise': 27, 'jour': 22, 'base': 3, 'doit': 10, 'fichier': 15, 'si': 33, 'hébergement': 18, 'domain': 11, 'recherch': 31, 'donné': 12, 'avoir': 2, 'contenu': 7, 'email': 13, 'http': 17}\n"
     ]
    }
   ],
   "source": [
    "print(vocabulary)"
   ]
  },
  {
   "cell_type": "code",
   "execution_count": 132,
   "metadata": {
    "scrolled": true
   },
   "outputs": [
    {
     "name": "stdout",
     "output_type": "stream",
     "text": [
      "See below an example of the encoded bag-of-Words\n",
      "\n",
      "[2 0 0 0 1 1 2 0 2 1 0 0 0 0 0 0 1 0 0 1 0 0 0 0 2 0 0 0 0 1 0 0 0 0 2 1 1\n",
      " 2 0 1]\n"
     ]
    }
   ],
   "source": [
    "print('See below an example of the encoded bag-of-Words\\n')\n",
    "\n",
    "print(train_X[0][0:300])"
   ]
  },
  {
   "cell_type": "code",
   "execution_count": 133,
   "metadata": {},
   "outputs": [],
   "source": [
    "# Then we split the training set further into training and validation sets.\n",
    "train_X, val_X, train_y, val_y = train_test_split(train_X, train_y, test_size=0.2, random_state=42)"
   ]
  },
  {
   "cell_type": "code",
   "execution_count": 134,
   "metadata": {
    "scrolled": true
   },
   "outputs": [
    {
     "name": "stdout",
     "output_type": "stream",
     "text": [
      "The training dataset has 46 notes with 46 labels.\n",
      "The validation dataset has 12 notes with 12 labels.\n",
      "The test dataset has 11 notes with 11 labels.\n"
     ]
    }
   ],
   "source": [
    "print('The training dataset has {} notes with {} labels.'.format(len(train_X), len(train_y)))\n",
    "print('The validation dataset has {} notes with {} labels.'.format(len(val_X), len(val_y)))\n",
    "print('The test dataset has {} notes with {} labels.'.format(len(test_X), len(test_y)))"
   ]
  },
  {
   "cell_type": "markdown",
   "metadata": {},
   "source": [
    "### Save the processed training dataset locally\n",
    "\n",
    "We export the CSV files ready for training locally."
   ]
  },
  {
   "cell_type": "code",
   "execution_count": 135,
   "metadata": {},
   "outputs": [],
   "source": [
    "pd.DataFrame(test_X).to_csv(os.path.join(data_dir, 'test.csv'), header=False, index=False)\n",
    "\n",
    "pd.concat([pd.DataFrame(val_y), pd.DataFrame(val_X)], axis=1).to_csv(os.path.join(data_dir, 'val.csv'),\n",
    "                                                                     header=False, index=False)\n",
    "pd.concat([pd.DataFrame(train_y), pd.DataFrame(train_X)], axis=1).to_csv(os.path.join(data_dir, 'train.csv'),\n",
    "                                                                         header=False, index=False)"
   ]
  },
  {
   "cell_type": "markdown",
   "metadata": {},
   "source": [
    "## 2.3 Training and testing the model\n",
    "\n",
    "We can now focus on training the model and check its accuracy.\n",
    "\n",
    "* Uploading the training data\n",
    "* XGBoost model\n",
    "* Testing the model"
   ]
  },
  {
   "cell_type": "markdown",
   "metadata": {},
   "source": [
    "### Uploading the training data\n",
    "\n",
    "We need to upload the training data to the SageMaker default S3 bucket so that we can provide access to it while training our model."
   ]
  },
  {
   "cell_type": "code",
   "execution_count": 136,
   "metadata": {},
   "outputs": [],
   "source": [
    "import sagemaker\n",
    "from sagemaker.amazon.amazon_estimator import get_image_uri\n",
    "\n",
    "session = sagemaker.Session()\n",
    "\n",
    "bucket = session.default_bucket()\n",
    "prefix = 'lead_nlp_automation'\n",
    "\n",
    "role = sagemaker.get_execution_role()"
   ]
  },
  {
   "cell_type": "code",
   "execution_count": 137,
   "metadata": {},
   "outputs": [],
   "source": [
    "test_location = session.upload_data(os.path.join(data_dir, 'test.csv'), key_prefix=prefix)\n",
    "val_location = session.upload_data(os.path.join(data_dir, 'val.csv'), key_prefix=prefix)\n",
    "train_location = session.upload_data(os.path.join(data_dir, 'train.csv'), key_prefix=prefix)"
   ]
  },
  {
   "cell_type": "markdown",
   "metadata": {},
   "source": [
    "### XGBoost model\n",
    "\n",
    "It's the XGBoost model that has been chosen. XGBoost outperforms several other well-known implementations of gradient tree boosting (Pafka, 2015).\n",
    "\n",
    "Let's create the xgb estimator first."
   ]
  },
  {
   "cell_type": "code",
   "execution_count": 138,
   "metadata": {},
   "outputs": [],
   "source": [
    "# As stated above, we use this utility method to construct the image name for the training container.\n",
    "container = get_image_uri(session.boto_region_name, 'xgboost', '0.90-1')\n",
    "\n",
    "# Now that we know which container to use, we can construct the estimator object.\n",
    "xgb = sagemaker.estimator.Estimator(container, # The image name of the training container\n",
    "                                    role,      # The IAM role to use (our current role in this case)\n",
    "                                    train_instance_count=1, # The number of instances to use for training\n",
    "                                    train_instance_type='ml.m4.xlarge', # The type of instance to use for training\n",
    "                                    output_path='s3://{}/{}/output'.format(session.default_bucket(), prefix),\n",
    "                                                                    # Where to save the output (the model artifacts)\n",
    "                                    sagemaker_session=session) # The current SageMaker session"
   ]
  },
  {
   "cell_type": "markdown",
   "metadata": {},
   "source": [
    "Here we set the hyperparameters for training."
   ]
  },
  {
   "cell_type": "code",
   "execution_count": 139,
   "metadata": {},
   "outputs": [],
   "source": [
    "xgb.set_hyperparameters(max_depth=10,\n",
    "                        eta=0.42,\n",
    "                        gamma=0,\n",
    "                        min_child_weight=2,\n",
    "                        subsample=0.87,\n",
    "                        objective='multi:softmax',\n",
    "                        early_stopping_rounds=10,\n",
    "                        num_round=200,\n",
    "                        num_class=4)"
   ]
  },
  {
   "cell_type": "code",
   "execution_count": 140,
   "metadata": {
    "scrolled": true
   },
   "outputs": [],
   "source": [
    "# This is a wrapper around the location of our train and validation data,\n",
    "# to make sure that SageMakerknows our data is in csv format.\n",
    "s3_input_train = sagemaker.s3_input(s3_data=train_location, content_type='csv')\n",
    "s3_input_validation = sagemaker.s3_input(s3_data=val_location, content_type='csv')"
   ]
  },
  {
   "cell_type": "code",
   "execution_count": 141,
   "metadata": {},
   "outputs": [
    {
     "name": "stdout",
     "output_type": "stream",
     "text": [
      "2020-03-29 03:10:59 Starting - Starting the training job...\n",
      "2020-03-29 03:11:00 Starting - Launching requested ML instances...\n",
      "2020-03-29 03:11:58 Starting - Preparing the instances for training......\n",
      "2020-03-29 03:12:52 Downloading - Downloading input data...\n",
      "2020-03-29 03:13:09 Training - Downloading the training image..\u001b[34mINFO:sagemaker-containers:Imported framework sagemaker_xgboost_container.training\u001b[0m\n",
      "\u001b[34mINFO:sagemaker-containers:Failed to parse hyperparameter objective value multi:softmax to Json.\u001b[0m\n",
      "\u001b[34mReturning the value itself\u001b[0m\n",
      "\u001b[34mINFO:sagemaker-containers:No GPUs detected (normal if no gpus installed)\u001b[0m\n",
      "\u001b[34mINFO:sagemaker_xgboost_container.training:Running XGBoost Sagemaker in algorithm mode\u001b[0m\n",
      "\u001b[34mINFO:root:Determined delimiter of CSV input is ','\u001b[0m\n",
      "\u001b[34mINFO:root:Determined delimiter of CSV input is ','\u001b[0m\n",
      "\u001b[34mINFO:root:Determined delimiter of CSV input is ','\u001b[0m\n",
      "\u001b[34m[03:13:43] 46x40 matrix with 1840 entries loaded from /opt/ml/input/data/train?format=csv&label_column=0&delimiter=,\u001b[0m\n",
      "\u001b[34mINFO:root:Determined delimiter of CSV input is ','\u001b[0m\n",
      "\u001b[34m[03:13:43] 12x40 matrix with 480 entries loaded from /opt/ml/input/data/validation?format=csv&label_column=0&delimiter=,\u001b[0m\n",
      "\u001b[34mINFO:root:Single node training.\u001b[0m\n",
      "\u001b[34mINFO:root:Train matrix has 46 rows\u001b[0m\n",
      "\u001b[34mINFO:root:Validation matrix has 12 rows\u001b[0m\n",
      "\u001b[34m[0]#011train-merror:0.282609#011validation-merror:0.416667\u001b[0m\n",
      "\u001b[34m[1]#011train-merror:0.304348#011validation-merror:0.416667\u001b[0m\n",
      "\u001b[34m[2]#011train-merror:0.23913#011validation-merror:0.416667\u001b[0m\n",
      "\u001b[34m[3]#011train-merror:0.173913#011validation-merror:0.416667\u001b[0m\n",
      "\u001b[34m[4]#011train-merror:0.195652#011validation-merror:0.333333\u001b[0m\n",
      "\u001b[34m[5]#011train-merror:0.130435#011validation-merror:0.333333\u001b[0m\n",
      "\u001b[34m[6]#011train-merror:0.152174#011validation-merror:0.333333\u001b[0m\n",
      "\u001b[34m[7]#011train-merror:0.130435#011validation-merror:0.333333\u001b[0m\n",
      "\u001b[34m[8]#011train-merror:0.130435#011validation-merror:0.333333\u001b[0m\n",
      "\u001b[34m[9]#011train-merror:0.130435#011validation-merror:0.333333\u001b[0m\n",
      "\u001b[34m[10]#011train-merror:0.130435#011validation-merror:0.333333\u001b[0m\n",
      "\u001b[34m[11]#011train-merror:0.130435#011validation-merror:0.333333\u001b[0m\n",
      "\u001b[34m[12]#011train-merror:0.130435#011validation-merror:0.333333\u001b[0m\n",
      "\u001b[34m[13]#011train-merror:0.130435#011validation-merror:0.416667\u001b[0m\n",
      "\u001b[34m[14]#011train-merror:0.130435#011validation-merror:0.333333\u001b[0m\n",
      "\n",
      "2020-03-29 03:13:53 Uploading - Uploading generated training model\n",
      "2020-03-29 03:13:53 Completed - Training job completed\n",
      "Training seconds: 61\n",
      "Billable seconds: 61\n"
     ]
    }
   ],
   "source": [
    "xgb.fit({'train': s3_input_train, 'validation': s3_input_validation})"
   ]
  },
  {
   "cell_type": "markdown",
   "metadata": {},
   "source": [
    "### Testing the model\n",
    "\n",
    "Now that we have fitted our model to the training data, using the validation data to avoid overfitting, we can test our model. To do this we will make use of SageMaker's Batch Transform functionality. To start with, we need to build a transformer object from our fit model."
   ]
  },
  {
   "cell_type": "code",
   "execution_count": 142,
   "metadata": {},
   "outputs": [],
   "source": [
    "xgb_transformer = xgb.transformer(instance_count = 1, instance_type = 'ml.m4.xlarge')"
   ]
  },
  {
   "cell_type": "code",
   "execution_count": 143,
   "metadata": {},
   "outputs": [],
   "source": [
    "xgb_transformer.transform(test_location, content_type='text/csv', split_type='Line')"
   ]
  },
  {
   "cell_type": "code",
   "execution_count": 144,
   "metadata": {},
   "outputs": [
    {
     "name": "stdout",
     "output_type": "stream",
     "text": [
      ".....................\n",
      "\u001b[34m[2020-03-29 03:17:32 +0000] [15] [INFO] Starting gunicorn 19.10.0\u001b[0m\n",
      "\u001b[34m[2020-03-29 03:17:32 +0000] [15] [INFO] Listening at: unix:/tmp/gunicorn.sock (15)\u001b[0m\n",
      "\u001b[34m[2020-03-29 03:17:32 +0000] [15] [INFO] Using worker: gevent\u001b[0m\n",
      "\u001b[34m[2020-03-29 03:17:32 +0000] [22] [INFO] Booting worker with pid: 22\u001b[0m\n",
      "\u001b[34m[2020-03-29 03:17:32 +0000] [23] [INFO] Booting worker with pid: 23\u001b[0m\n",
      "\u001b[34m[2020-03-29 03:17:32 +0000] [27] [INFO] Booting worker with pid: 27\u001b[0m\n",
      "\u001b[34m[2020-03-29 03:17:32 +0000] [31] [INFO] Booting worker with pid: 31\u001b[0m\n",
      "\u001b[34m[2020-03-29:03:17:37:INFO] No GPUs detected (normal if no gpus installed)\u001b[0m\n",
      "\u001b[34m169.254.255.130 - - [29/Mar/2020:03:17:37 +0000] \"GET /ping HTTP/1.1\" 200 0 \"-\" \"Go-http-client/1.1\"\u001b[0m\n",
      "\u001b[34m169.254.255.130 - - [29/Mar/2020:03:17:37 +0000] \"GET /execution-parameters HTTP/1.1\" 200 84 \"-\" \"Go-http-client/1.1\"\u001b[0m\n",
      "\u001b[34m[2020-03-29:03:17:37:INFO] Determined delimiter of CSV input is ','\u001b[0m\n",
      "\u001b[34m169.254.255.130 - - [29/Mar/2020:03:17:37 +0000] \"POST /invocations HTTP/1.1\" 200 44 \"-\" \"Go-http-client/1.1\"\u001b[0m\n",
      "\u001b[32m2020-03-29T03:17:37.751:[sagemaker logs]: MaxConcurrentTransforms=4, MaxPayloadInMB=6, BatchStrategy=MULTI_RECORD\u001b[0m\n"
     ]
    }
   ],
   "source": [
    "xgb_transformer.wait()"
   ]
  },
  {
   "cell_type": "code",
   "execution_count": 145,
   "metadata": {},
   "outputs": [
    {
     "name": "stdout",
     "output_type": "stream",
     "text": [
      "Completed 44 Bytes/44 Bytes (819 Bytes/s) with 1 file(s) remaining\r",
      "download: s3://sagemaker-eu-west-1-384935747368/sagemaker-xgboost-2020-03-29-03-14-11-704/test.csv.out to data/test.csv.out\r\n"
     ]
    }
   ],
   "source": [
    "!aws s3 cp --recursive $xgb_transformer.output_path $data_dir"
   ]
  },
  {
   "cell_type": "code",
   "execution_count": 146,
   "metadata": {},
   "outputs": [],
   "source": [
    "pred_y = pd.read_csv(os.path.join(data_dir, 'test.csv.out'), header=None)"
   ]
  },
  {
   "cell_type": "markdown",
   "metadata": {},
   "source": [
    "Let's check below the accuracy of the model."
   ]
  },
  {
   "cell_type": "code",
   "execution_count": 147,
   "metadata": {},
   "outputs": [
    {
     "data": {
      "text/plain": [
       "0.45454545454545453"
      ]
     },
     "execution_count": 147,
     "metadata": {},
     "output_type": "execute_result"
    }
   ],
   "source": [
    "from sklearn.metrics import accuracy_score\n",
    "\n",
    "ground = test_y.astype(int)\n",
    "results = pred_y.values.flatten().astype(int)\n",
    "\n",
    "accuracy_score(ground, results)"
   ]
  },
  {
   "cell_type": "code",
   "execution_count": 148,
   "metadata": {
    "scrolled": false
   },
   "outputs": [
    {
     "name": "stdout",
     "output_type": "stream",
     "text": [
      "\n",
      "Predicted class labels: \n",
      "[1 0 3 2 2 0 0 0 3 0 0]\n",
      "\n",
      "True class labels: \n",
      "[0 0 3 0 1 1 0 2 0 0 0]\n"
     ]
    }
   ],
   "source": [
    "## print out the array of predicted and true labels\n",
    "print('\\nPredicted class labels: ')\n",
    "print(results)\n",
    "print('\\nTrue class labels: ')\n",
    "print(ground)"
   ]
  },
  {
   "cell_type": "markdown",
   "metadata": {},
   "source": [
    "As we have a very small dataset it is interesting to check if the data of the validation set is well mixed."
   ]
  },
  {
   "cell_type": "code",
   "execution_count": 149,
   "metadata": {},
   "outputs": [
    {
     "name": "stdout",
     "output_type": "stream",
     "text": [
      "\n",
      "Validation class labels: \n",
      "[3 0 0 3 0 0 0 0 0 2 1 0]\n"
     ]
    }
   ],
   "source": [
    "# check if the validation dataset is mixed\n",
    "print('\\nValidation class labels: ')\n",
    "print(val_y.astype(int))"
   ]
  },
  {
   "cell_type": "markdown",
   "metadata": {},
   "source": [
    "## 2.4 Tuning the Hyperparameters\n",
    "\n",
    "* Hyperparameter Tuner\n",
    "* Testing the model\n",
    "\n",
    "### Hyperparameter Tuner\n",
    "\n",
    "Let's try to launch a hyperparameters' tuning job to see if it can improve our model's performance."
   ]
  },
  {
   "cell_type": "code",
   "execution_count": 54,
   "metadata": {},
   "outputs": [],
   "source": [
    "from sagemaker.tuner import IntegerParameter, ContinuousParameter, HyperparameterTuner\n",
    "\n",
    "xgb_hyperparameter_tuner = HyperparameterTuner(estimator = xgb, # The estimator object to use as the basis\n",
    "                                               objective_metric_name = 'validation:merror', # The metric to compare\n",
    "                                               objective_type = 'Minimize', # Minimize or maximize the metric\n",
    "                                               max_jobs = 20, # The total number of models to train\n",
    "                                               max_parallel_jobs = 3, # The number of models to train in parallel\n",
    "                                               hyperparameter_ranges = {\n",
    "                                                    'max_depth': IntegerParameter(3, 13),\n",
    "                                                    'eta'      : ContinuousParameter(0.05, 0.6),\n",
    "                                                    'min_child_weight': IntegerParameter(2, 8),\n",
    "                                                    'subsample': ContinuousParameter(0.5, 0.9),\n",
    "                                                    'gamma': ContinuousParameter(0, 10),\n",
    "                                               })"
   ]
  },
  {
   "cell_type": "code",
   "execution_count": 55,
   "metadata": {},
   "outputs": [
    {
     "name": "stdout",
     "output_type": "stream",
     "text": [
      "...................................................................................................................................................................................................................................................................................!\n"
     ]
    }
   ],
   "source": [
    "xgb_hyperparameter_tuner.fit({'train': s3_input_train, 'validation': s3_input_validation})\n",
    "xgb_hyperparameter_tuner.wait()"
   ]
  },
  {
   "cell_type": "code",
   "execution_count": 56,
   "metadata": {},
   "outputs": [
    {
     "data": {
      "text/plain": [
       "'sagemaker-xgboost-200329-0113-018-b6165286'"
      ]
     },
     "execution_count": 56,
     "metadata": {},
     "output_type": "execute_result"
    }
   ],
   "source": [
    "xgb_hyperparameter_tuner.best_training_job()"
   ]
  },
  {
   "cell_type": "code",
   "execution_count": 57,
   "metadata": {},
   "outputs": [
    {
     "name": "stdout",
     "output_type": "stream",
     "text": [
      "2020-03-29 01:33:16 Starting - Preparing the instances for training\n",
      "2020-03-29 01:33:16 Downloading - Downloading input data\n",
      "2020-03-29 01:33:16 Training - Training image download completed. Training in progress.\n",
      "2020-03-29 01:33:16 Uploading - Uploading generated training model\n",
      "2020-03-29 01:33:16 Completed - Training job completed\u001b[34mINFO:sagemaker-containers:Imported framework sagemaker_xgboost_container.training\u001b[0m\n",
      "\u001b[34mINFO:sagemaker-containers:Failed to parse hyperparameter _tuning_objective_metric value validation:merror to Json.\u001b[0m\n",
      "\u001b[34mReturning the value itself\u001b[0m\n",
      "\u001b[34mINFO:sagemaker-containers:Failed to parse hyperparameter objective value multi:softmax to Json.\u001b[0m\n",
      "\u001b[34mReturning the value itself\u001b[0m\n",
      "\u001b[34mINFO:sagemaker-containers:No GPUs detected (normal if no gpus installed)\u001b[0m\n",
      "\u001b[34mINFO:sagemaker_xgboost_container.training:Running XGBoost Sagemaker in algorithm mode\u001b[0m\n",
      "\u001b[34mINFO:root:Determined delimiter of CSV input is ','\u001b[0m\n",
      "\u001b[34mINFO:root:Determined delimiter of CSV input is ','\u001b[0m\n",
      "\u001b[34mINFO:root:Determined delimiter of CSV input is ','\u001b[0m\n",
      "\u001b[34m[01:33:06] 46x40 matrix with 1840 entries loaded from /opt/ml/input/data/train?format=csv&label_column=0&delimiter=,\u001b[0m\n",
      "\u001b[34mINFO:root:Determined delimiter of CSV input is ','\u001b[0m\n",
      "\u001b[34m[01:33:06] 12x40 matrix with 480 entries loaded from /opt/ml/input/data/validation?format=csv&label_column=0&delimiter=,\u001b[0m\n",
      "\u001b[34mINFO:root:Single node training.\u001b[0m\n",
      "\u001b[34mINFO:root:Setting up HPO optimized metric to be : merror\u001b[0m\n",
      "\u001b[34mINFO:root:Train matrix has 46 rows\u001b[0m\n",
      "\u001b[34mINFO:root:Validation matrix has 12 rows\u001b[0m\n",
      "\u001b[34m[0]#011train-merror:0.478261#011validation-merror:0.333333\u001b[0m\n",
      "\u001b[34m[1]#011train-merror:0.478261#011validation-merror:0.333333\u001b[0m\n",
      "\u001b[34m[2]#011train-merror:0.478261#011validation-merror:0.333333\u001b[0m\n",
      "\u001b[34m[3]#011train-merror:0.478261#011validation-merror:0.333333\u001b[0m\n",
      "\u001b[34m[4]#011train-merror:0.478261#011validation-merror:0.333333\u001b[0m\n",
      "\u001b[34m[5]#011train-merror:0.478261#011validation-merror:0.333333\u001b[0m\n",
      "\u001b[34m[6]#011train-merror:0.478261#011validation-merror:0.333333\u001b[0m\n",
      "\u001b[34m[7]#011train-merror:0.478261#011validation-merror:0.333333\u001b[0m\n",
      "\u001b[34m[8]#011train-merror:0.478261#011validation-merror:0.333333\u001b[0m\n",
      "\u001b[34m[9]#011train-merror:0.478261#011validation-merror:0.333333\u001b[0m\n",
      "\u001b[34m[10]#011train-merror:0.478261#011validation-merror:0.333333\u001b[0m\n",
      "Training seconds: 62\n",
      "Billable seconds: 62\n"
     ]
    }
   ],
   "source": [
    "xgb_attached = sagemaker.estimator.Estimator.attach(xgb_hyperparameter_tuner.best_training_job())"
   ]
  },
  {
   "cell_type": "code",
   "execution_count": 58,
   "metadata": {},
   "outputs": [],
   "source": [
    "xgb_transformer = xgb_attached.transformer(instance_count = 1, instance_type = 'ml.m4.xlarge')"
   ]
  },
  {
   "cell_type": "code",
   "execution_count": 59,
   "metadata": {},
   "outputs": [
    {
     "name": "stdout",
     "output_type": "stream",
     "text": [
      "......................\u001b[34m[2020-03-29 01:39:53 +0000] [14] [INFO] Starting gunicorn 19.10.0\u001b[0m\n",
      "\u001b[34m[2020-03-29 01:39:53 +0000] [14] [INFO] Listening at: unix:/tmp/gunicorn.sock (14)\u001b[0m\n",
      "\u001b[34m[2020-03-29 01:39:53 +0000] [14] [INFO] Using worker: gevent\u001b[0m\n",
      "\u001b[34m[2020-03-29 01:39:53 +0000] [21] [INFO] Booting worker with pid: 21\u001b[0m\n",
      "\u001b[34m[2020-03-29 01:39:53 +0000] [22] [INFO] Booting worker with pid: 22\u001b[0m\n",
      "\u001b[34m[2020-03-29 01:39:53 +0000] [26] [INFO] Booting worker with pid: 26\u001b[0m\n",
      "\u001b[34m[2020-03-29 01:39:53 +0000] [27] [INFO] Booting worker with pid: 27\u001b[0m\n",
      "\u001b[34m[2020-03-29:01:40:15:INFO] No GPUs detected (normal if no gpus installed)\u001b[0m\n",
      "\u001b[34m169.254.255.130 - - [29/Mar/2020:01:40:15 +0000] \"GET /ping HTTP/1.1\" 200 0 \"-\" \"Go-http-client/1.1\"\u001b[0m\n",
      "\u001b[35m[2020-03-29:01:40:15:INFO] No GPUs detected (normal if no gpus installed)\u001b[0m\n",
      "\u001b[35m169.254.255.130 - - [29/Mar/2020:01:40:15 +0000] \"GET /ping HTTP/1.1\" 200 0 \"-\" \"Go-http-client/1.1\"\u001b[0m\n",
      "\u001b[34m[2020-03-29:01:40:15:INFO] No GPUs detected (normal if no gpus installed)\u001b[0m\n",
      "\u001b[34m169.254.255.130 - - [29/Mar/2020:01:40:15 +0000] \"GET /execution-parameters HTTP/1.1\" 200 84 \"-\" \"Go-http-client/1.1\"\u001b[0m\n",
      "\u001b[34m[2020-03-29:01:40:16:INFO] Determined delimiter of CSV input is ','\u001b[0m\n",
      "\u001b[34m169.254.255.130 - - [29/Mar/2020:01:40:16 +0000] \"POST /invocations HTTP/1.1\" 200 44 \"-\" \"Go-http-client/1.1\"\u001b[0m\n",
      "\u001b[35m[2020-03-29:01:40:15:INFO] No GPUs detected (normal if no gpus installed)\u001b[0m\n",
      "\u001b[35m169.254.255.130 - - [29/Mar/2020:01:40:15 +0000] \"GET /execution-parameters HTTP/1.1\" 200 84 \"-\" \"Go-http-client/1.1\"\u001b[0m\n",
      "\u001b[35m[2020-03-29:01:40:16:INFO] Determined delimiter of CSV input is ','\u001b[0m\n",
      "\u001b[35m169.254.255.130 - - [29/Mar/2020:01:40:16 +0000] \"POST /invocations HTTP/1.1\" 200 44 \"-\" \"Go-http-client/1.1\"\u001b[0m\n",
      "\u001b[32m2020-03-29T01:40:15.941:[sagemaker logs]: MaxConcurrentTransforms=4, MaxPayloadInMB=6, BatchStrategy=MULTI_RECORD\u001b[0m\n",
      "\n"
     ]
    }
   ],
   "source": [
    "xgb_transformer.transform(test_location, content_type='text/csv', split_type='Line')\n",
    "xgb_transformer.wait()"
   ]
  },
  {
   "cell_type": "code",
   "execution_count": 60,
   "metadata": {},
   "outputs": [
    {
     "name": "stdout",
     "output_type": "stream",
     "text": [
      "Completed 44 Bytes/44 Bytes (799 Bytes/s) with 1 file(s) remaining\r",
      "download: s3://sagemaker-eu-west-1-384935747368/sagemaker-xgboost-200329-0113-018-b6165-2020-03-29-01-36-33-248/test.csv.out to data/test.csv.out\r\n"
     ]
    }
   ],
   "source": [
    "!aws s3 cp --recursive $xgb_transformer.output_path $data_dir"
   ]
  },
  {
   "cell_type": "code",
   "execution_count": 61,
   "metadata": {},
   "outputs": [],
   "source": [
    "pred_y = pd.read_csv(os.path.join(data_dir, 'test.csv.out'), header=None)"
   ]
  },
  {
   "cell_type": "markdown",
   "metadata": {},
   "source": [
    "### Testing the model\n",
    "\n",
    "Let's discover now the accuracy of the best trained model below."
   ]
  },
  {
   "cell_type": "code",
   "execution_count": 62,
   "metadata": {},
   "outputs": [
    {
     "data": {
      "text/plain": [
       "0.6363636363636364"
      ]
     },
     "execution_count": 62,
     "metadata": {},
     "output_type": "execute_result"
    }
   ],
   "source": [
    "from sklearn.metrics import accuracy_score\n",
    "\n",
    "ground = test_y.astype(int)\n",
    "results = pred_y.values.flatten().astype(int)\n",
    "\n",
    "accuracy_score(ground, results)"
   ]
  },
  {
   "cell_type": "code",
   "execution_count": 63,
   "metadata": {
    "scrolled": true
   },
   "outputs": [
    {
     "name": "stdout",
     "output_type": "stream",
     "text": [
      "\n",
      "Predicted class labels: \n",
      "[0 0 0 0 0 0 0 0 0 0 0]\n",
      "\n",
      "True class labels: \n",
      "[0 0 3 0 1 1 0 2 0 0 0]\n"
     ]
    }
   ],
   "source": [
    "## print out the array of predicted and true labels\n",
    "print('\\nPredicted class labels: ')\n",
    "print(results)\n",
    "print('\\nTrue class labels: ')\n",
    "print(ground)"
   ]
  },
  {
   "cell_type": "code",
   "execution_count": 64,
   "metadata": {
    "scrolled": false
   },
   "outputs": [
    {
     "name": "stdout",
     "output_type": "stream",
     "text": [
      "\n",
      "Validation class labels: \n",
      "[3 0 0 3 0 0 0 0 0 2 1 0]\n"
     ]
    }
   ],
   "source": [
    "# check if the validation dataset is mixed\n",
    "print('\\nValidation class labels: ')\n",
    "print(val_y.astype(int))"
   ]
  },
  {
   "cell_type": "markdown",
   "metadata": {},
   "source": [
    "## 2.5 Binary classification\n",
    "\n",
    "* Two categories\n",
    "* Training of the model\n",
    "* Testing the model\n",
    "* Tuning the Hyperparameters\n",
    "\n",
    "### Two categories\n",
    "\n",
    "The accuracy of the last model is 63%. Therefore it could be improved. The reason is probably because our dataset is very small. A way to improve the accuracy is to reduce the number of categories. Here we decide to reduce to 2 categories."
   ]
  },
  {
   "cell_type": "code",
   "execution_count": 65,
   "metadata": {},
   "outputs": [],
   "source": [
    "# convert class 1, 2, 3 to 1\n",
    "\n",
    "for i in range(labeled_leads_out.shape[0]):\n",
    "    if labeled_leads_out.iloc[i,0] != 0:\n",
    "        labeled_leads_out.iloc[i,0] = 1"
   ]
  },
  {
   "cell_type": "code",
   "execution_count": 66,
   "metadata": {
    "scrolled": false
   },
   "outputs": [
    {
     "name": "stdout",
     "output_type": "stream",
     "text": [
      "0    40\n",
      "1    30\n",
      "Name: category, dtype: int64\n"
     ]
    },
    {
     "data": {
      "image/png": "[encoded data removed]",
      "text/plain": [
       "<Figure size 432x288 with 1 Axes>"
      ]
     },
     "metadata": {
      "image/png": {
       "height": 250,
       "width": 370
      }
     },
     "output_type": "display_data"
    }
   ],
   "source": [
    "print(labeled_leads_out['category'].value_counts())\n",
    "labeled_leads_out['category'].value_counts().plot(kind='bar', rot=0);"
   ]
  },
  {
   "cell_type": "markdown",
   "metadata": {},
   "source": [
    "You can see above that now the number in each category is almost equal.\n",
    "\n",
    "The steps below are the same as before but in a binary way."
   ]
  },
  {
   "cell_type": "code",
   "execution_count": 67,
   "metadata": {},
   "outputs": [],
   "source": [
    "# remove the name of the columns\n",
    "labeled_leads_out.to_csv(os.path.join(data_dir, 'labeled_leads_out.csv'), header=False, index=False)\n",
    "data = pd.read_csv(os.path.join(data_dir, 'labeled_leads_out.csv'))\n",
    "data_values = data.values"
   ]
  },
  {
   "cell_type": "code",
   "execution_count": 68,
   "metadata": {},
   "outputs": [],
   "source": [
    "# labels in the 1st column\n",
    "data_y = data_values[:, 0]\n",
    "\n",
    "# data in the 2nd column\n",
    "data_X = [lead_note_to_words(note) for note in data_values[:, 1]]\n",
    "\n",
    "for i in range(len(data_X)):\n",
    "    data_X[i] = ' '.join([str(elem) for elem in data_X[i]]) "
   ]
  },
  {
   "cell_type": "code",
   "execution_count": 69,
   "metadata": {},
   "outputs": [],
   "source": [
    "train_X, test_X, train_y, test_y = train_test_split(data_X, data_y, test_size=0.2, random_state=42)"
   ]
  },
  {
   "cell_type": "code",
   "execution_count": 70,
   "metadata": {},
   "outputs": [],
   "source": [
    "# Extract Bag of Words features for both training and test datasets\n",
    "train_X, test_X, vocabulary = extract_BoW_features(train_X, test_X)"
   ]
  },
  {
   "cell_type": "code",
   "execution_count": 71,
   "metadata": {},
   "outputs": [],
   "source": [
    "# Then we split the training set further into training and validation sets.\n",
    "train_X, val_X, train_y, val_y = train_test_split(train_X, train_y, test_size=0.2, random_state=42)"
   ]
  },
  {
   "cell_type": "code",
   "execution_count": 72,
   "metadata": {},
   "outputs": [
    {
     "name": "stdout",
     "output_type": "stream",
     "text": [
      "The training dataset has 44 notes with 44 labels.\n",
      "The validation dataset has 11 notes with 11 labels.\n",
      "The test dataset has 14 notes with 14 labels.\n"
     ]
    }
   ],
   "source": [
    "print('The training dataset has {} notes with {} labels.'.format(len(train_X), len(train_y)))\n",
    "print('The validation dataset has {} notes with {} labels.'.format(len(val_X), len(val_y)))\n",
    "print('The test dataset has {} notes with {} labels.'.format(len(test_X), len(test_y)))"
   ]
  },
  {
   "cell_type": "code",
   "execution_count": 73,
   "metadata": {},
   "outputs": [],
   "source": [
    "pd.DataFrame(test_X).to_csv(os.path.join(data_dir, 'test.csv'), header=False, index=False)\n",
    "\n",
    "pd.concat([pd.DataFrame(val_y), pd.DataFrame(val_X)], axis=1).to_csv(os.path.join(data_dir, 'val.csv'),\n",
    "                                                                     header=False, index=False)\n",
    "pd.concat([pd.DataFrame(train_y), pd.DataFrame(train_X)], axis=1).to_csv(os.path.join(data_dir, 'train.csv'),\n",
    "                                                                         header=False, index=False)"
   ]
  },
  {
   "cell_type": "markdown",
   "metadata": {},
   "source": [
    "### Training of the model\n",
    "\n",
    "We start again our training this time with the new binary labels."
   ]
  },
  {
   "cell_type": "code",
   "execution_count": 74,
   "metadata": {},
   "outputs": [],
   "source": [
    "test_location = session.upload_data(os.path.join(data_dir, 'test.csv'), key_prefix=prefix)\n",
    "val_location = session.upload_data(os.path.join(data_dir, 'val.csv'), key_prefix=prefix)\n",
    "train_location = session.upload_data(os.path.join(data_dir, 'train.csv'), key_prefix=prefix)"
   ]
  },
  {
   "cell_type": "code",
   "execution_count": 75,
   "metadata": {},
   "outputs": [],
   "source": [
    "# As stated above, we use this utility method to construct the image name for the training container.\n",
    "container = get_image_uri(session.boto_region_name, 'xgboost', '0.90-1')\n",
    "\n",
    "# Now that we know which container to use, we can construct the estimator object.\n",
    "xgb = sagemaker.estimator.Estimator(container, # The image name of the training container\n",
    "                                    role,      # The IAM role to use (our current role in this case)\n",
    "                                    train_instance_count=1, # The number of instances to use for training\n",
    "                                    train_instance_type='ml.m4.xlarge', # The type of instance to use for training\n",
    "                                    output_path='s3://{}/{}/output'.format(session.default_bucket(), prefix),\n",
    "                                                                    # Where to save the output (the model artifacts)\n",
    "                                    sagemaker_session=session) # The current SageMaker session"
   ]
  },
  {
   "cell_type": "code",
   "execution_count": 76,
   "metadata": {},
   "outputs": [],
   "source": [
    "xgb.set_hyperparameters(max_depth=10,\n",
    "                        eta=0.6,\n",
    "                        gamma=0.01,\n",
    "                        min_child_weight=5,\n",
    "                        subsample=0.5,\n",
    "                        objective='reg:squarederror',\n",
    "                        early_stopping_rounds=10,\n",
    "                        num_round=300)"
   ]
  },
  {
   "cell_type": "code",
   "execution_count": 77,
   "metadata": {},
   "outputs": [],
   "source": [
    "# This is a wrapper around the location of our train and validation data, to make sure that SageMaker\n",
    "# knows our data is in csv format.\n",
    "s3_input_train = sagemaker.s3_input(s3_data=train_location, content_type='csv')\n",
    "s3_input_validation = sagemaker.s3_input(s3_data=val_location, content_type='csv')"
   ]
  },
  {
   "cell_type": "code",
   "execution_count": 78,
   "metadata": {},
   "outputs": [
    {
     "name": "stdout",
     "output_type": "stream",
     "text": [
      "2020-03-29 01:40:48 Starting - Starting the training job...\n",
      "2020-03-29 01:40:49 Starting - Launching requested ML instances...\n",
      "2020-03-29 01:41:46 Starting - Preparing the instances for training......\n",
      "2020-03-29 01:42:36 Downloading - Downloading input data...\n",
      "2020-03-29 01:42:53 Training - Downloading the training image..\u001b[34mINFO:sagemaker-containers:Imported framework sagemaker_xgboost_container.training\u001b[0m\n",
      "\u001b[34mINFO:sagemaker-containers:Failed to parse hyperparameter objective value reg:squarederror to Json.\u001b[0m\n",
      "\u001b[34mReturning the value itself\u001b[0m\n",
      "\u001b[34mINFO:sagemaker-containers:No GPUs detected (normal if no gpus installed)\u001b[0m\n",
      "\u001b[34mINFO:sagemaker_xgboost_container.training:Running XGBoost Sagemaker in algorithm mode\u001b[0m\n",
      "\u001b[34mINFO:root:Determined delimiter of CSV input is ','\u001b[0m\n",
      "\u001b[34mINFO:root:Determined delimiter of CSV input is ','\u001b[0m\n",
      "\u001b[34mINFO:root:Determined delimiter of CSV input is ','\u001b[0m\n",
      "\u001b[34m[01:43:27] 44x40 matrix with 1760 entries loaded from /opt/ml/input/data/train?format=csv&label_column=0&delimiter=,\u001b[0m\n",
      "\u001b[34mINFO:root:Determined delimiter of CSV input is ','\u001b[0m\n",
      "\u001b[34m[01:43:27] 11x40 matrix with 440 entries loaded from /opt/ml/input/data/validation?format=csv&label_column=0&delimiter=,\u001b[0m\n",
      "\u001b[34mINFO:root:Single node training.\u001b[0m\n",
      "\u001b[34mINFO:root:Train matrix has 44 rows\u001b[0m\n",
      "\u001b[34mINFO:root:Validation matrix has 11 rows\u001b[0m\n",
      "\u001b[34m[0]#011train-rmse:0.497137#011validation-rmse:0.515278\u001b[0m\n",
      "\u001b[34m[1]#011train-rmse:0.466174#011validation-rmse:0.522416\u001b[0m\n",
      "\u001b[34m[2]#011train-rmse:0.471392#011validation-rmse:0.539135\u001b[0m\n",
      "\u001b[34m[3]#011train-rmse:0.444671#011validation-rmse:0.531298\u001b[0m\n",
      "\u001b[34m[4]#011train-rmse:0.439342#011validation-rmse:0.547014\u001b[0m\n",
      "\u001b[34m[5]#011train-rmse:0.419185#011validation-rmse:0.510564\u001b[0m\n",
      "\u001b[34m[6]#011train-rmse:0.41716#011validation-rmse:0.475217\u001b[0m\n",
      "\u001b[34m[7]#011train-rmse:0.413058#011validation-rmse:0.473305\u001b[0m\n",
      "\u001b[34m[8]#011train-rmse:0.378226#011validation-rmse:0.428544\u001b[0m\n",
      "\u001b[34m[9]#011train-rmse:0.379991#011validation-rmse:0.429384\u001b[0m\n",
      "\u001b[34m[10]#011train-rmse:0.366998#011validation-rmse:0.45817\u001b[0m\n",
      "\u001b[34m[11]#011train-rmse:0.368964#011validation-rmse:0.488108\u001b[0m\n",
      "\u001b[34m[12]#011train-rmse:0.367791#011validation-rmse:0.484734\u001b[0m\n",
      "\u001b[34m[13]#011train-rmse:0.370061#011validation-rmse:0.493689\u001b[0m\n",
      "\u001b[34m[14]#011train-rmse:0.362424#011validation-rmse:0.480047\u001b[0m\n",
      "\u001b[34m[15]#011train-rmse:0.353324#011validation-rmse:0.506803\u001b[0m\n",
      "\u001b[34m[16]#011train-rmse:0.343148#011validation-rmse:0.475295\u001b[0m\n",
      "\u001b[34m[17]#011train-rmse:0.348827#011validation-rmse:0.476543\u001b[0m\n",
      "\u001b[34m[18]#011train-rmse:0.34175#011validation-rmse:0.489671\u001b[0m\n",
      "\n",
      "2020-03-29 01:43:37 Uploading - Uploading generated training model\n",
      "2020-03-29 01:43:37 Completed - Training job completed\n",
      "Training seconds: 61\n",
      "Billable seconds: 61\n"
     ]
    }
   ],
   "source": [
    "xgb.fit({'train': s3_input_train, 'validation': s3_input_validation})"
   ]
  },
  {
   "cell_type": "markdown",
   "metadata": {},
   "source": [
    "### Testing the model\n",
    "\n",
    "We test the new model accuracy."
   ]
  },
  {
   "cell_type": "code",
   "execution_count": 79,
   "metadata": {},
   "outputs": [],
   "source": [
    "xgb_transformer = xgb.transformer(instance_count = 1, instance_type = 'ml.m4.xlarge')"
   ]
  },
  {
   "cell_type": "code",
   "execution_count": 80,
   "metadata": {},
   "outputs": [],
   "source": [
    "xgb_transformer.transform(test_location, content_type='text/csv', split_type='Line')"
   ]
  },
  {
   "cell_type": "code",
   "execution_count": 81,
   "metadata": {},
   "outputs": [
    {
     "name": "stdout",
     "output_type": "stream",
     "text": [
      "........................\u001b[34m[2020-03-29 01:47:44 +0000] [15] [INFO] Starting gunicorn 19.10.0\u001b[0m\n",
      "\u001b[34m[2020-03-29 01:47:44 +0000] [15] [INFO] Listening at: unix:/tmp/gunicorn.sock (15)\u001b[0m\n",
      "\u001b[34m[2020-03-29 01:47:44 +0000] [15] [INFO] Using worker: gevent\u001b[0m\n",
      "\u001b[34m[2020-03-29 01:47:44 +0000] [22] [INFO] Booting worker with pid: 22\u001b[0m\n",
      "\u001b[34m[2020-03-29 01:47:44 +0000] [23] [INFO] Booting worker with pid: 23\u001b[0m\n",
      "\u001b[34m[2020-03-29 01:47:44 +0000] [24] [INFO] Booting worker with pid: 24\u001b[0m\n",
      "\u001b[34m[2020-03-29 01:47:44 +0000] [31] [INFO] Booting worker with pid: 31\u001b[0m\n",
      "\u001b[34m[2020-03-29:01:48:05:INFO] No GPUs detected (normal if no gpus installed)\u001b[0m\n",
      "\u001b[34m169.254.255.130 - - [29/Mar/2020:01:48:05 +0000] \"GET /ping HTTP/1.1\" 200 0 \"-\" \"Go-http-client/1.1\"\u001b[0m\n",
      "\u001b[34m[2020-03-29:01:48:05:INFO] No GPUs detected (normal if no gpus installed)\u001b[0m\n",
      "\u001b[34m169.254.255.130 - - [29/Mar/2020:01:48:05 +0000] \"GET /execution-parameters HTTP/1.1\" 200 84 \"-\" \"Go-http-client/1.1\"\u001b[0m\n",
      "\u001b[34m[2020-03-29:01:48:05:INFO] Determined delimiter of CSV input is ','\u001b[0m\n",
      "\u001b[34m169.254.255.130 - - [29/Mar/2020:01:48:05 +0000] \"POST /invocations HTTP/1.1\" 200 266 \"-\" \"Go-http-client/1.1\"\u001b[0m\n",
      "\u001b[35m[2020-03-29:01:48:05:INFO] No GPUs detected (normal if no gpus installed)\u001b[0m\n",
      "\u001b[35m169.254.255.130 - - [29/Mar/2020:01:48:05 +0000] \"GET /ping HTTP/1.1\" 200 0 \"-\" \"Go-http-client/1.1\"\u001b[0m\n",
      "\u001b[35m[2020-03-29:01:48:05:INFO] No GPUs detected (normal if no gpus installed)\u001b[0m\n",
      "\u001b[35m169.254.255.130 - - [29/Mar/2020:01:48:05 +0000] \"GET /execution-parameters HTTP/1.1\" 200 84 \"-\" \"Go-http-client/1.1\"\u001b[0m\n",
      "\u001b[35m[2020-03-29:01:48:05:INFO] Determined delimiter of CSV input is ','\u001b[0m\n",
      "\u001b[35m169.254.255.130 - - [29/Mar/2020:01:48:05 +0000] \"POST /invocations HTTP/1.1\" 200 266 \"-\" \"Go-http-client/1.1\"\u001b[0m\n",
      "\u001b[32m2020-03-29T01:48:05.620:[sagemaker logs]: MaxConcurrentTransforms=4, MaxPayloadInMB=6, BatchStrategy=MULTI_RECORD\u001b[0m\n",
      "\n"
     ]
    }
   ],
   "source": [
    "xgb_transformer.wait()"
   ]
  },
  {
   "cell_type": "code",
   "execution_count": 82,
   "metadata": {},
   "outputs": [
    {
     "name": "stdout",
     "output_type": "stream",
     "text": [
      "Completed 266 Bytes/266 Bytes (4.5 KiB/s) with 1 file(s) remaining\r",
      "download: s3://sagemaker-eu-west-1-384935747368/sagemaker-xgboost-2020-03-29-01-44-00-182/test.csv.out to data/test.csv.out\r\n"
     ]
    }
   ],
   "source": [
    "!aws s3 cp --recursive $xgb_transformer.output_path $data_dir"
   ]
  },
  {
   "cell_type": "code",
   "execution_count": 83,
   "metadata": {},
   "outputs": [],
   "source": [
    "pred_y = pd.read_csv(os.path.join(data_dir, 'test.csv.out'), header=None)"
   ]
  },
  {
   "cell_type": "code",
   "execution_count": 84,
   "metadata": {},
   "outputs": [
    {
     "data": {
      "text/plain": [
       "0.42857142857142855"
      ]
     },
     "execution_count": 84,
     "metadata": {},
     "output_type": "execute_result"
    }
   ],
   "source": [
    "from sklearn.metrics import accuracy_score\n",
    "\n",
    "ground = test_y.astype(int)\n",
    "results = pred_y.values.flatten().astype(int)\n",
    "\n",
    "accuracy_score(ground, results)"
   ]
  },
  {
   "cell_type": "code",
   "execution_count": 85,
   "metadata": {},
   "outputs": [
    {
     "name": "stdout",
     "output_type": "stream",
     "text": [
      "\n",
      "Predicted class labels: \n",
      "[0 0 0 0 0 0 0 0 1 0 0 0 0 0]\n",
      "\n",
      "True class labels: \n",
      "[0 0 1 0 1 1 0 1 0 0 0 1 1 1]\n"
     ]
    }
   ],
   "source": [
    "## print out the array of predicted and true labels\n",
    "print('\\nPredicted class labels: ')\n",
    "print(results)\n",
    "print('\\nTrue class labels: ')\n",
    "print(ground)"
   ]
  },
  {
   "cell_type": "code",
   "execution_count": 86,
   "metadata": {},
   "outputs": [
    {
     "name": "stdout",
     "output_type": "stream",
     "text": [
      "\n",
      "Validation class labels: \n",
      "[0 1 0 1 1 0 0 1 0 0 1]\n"
     ]
    }
   ],
   "source": [
    "# check if the validation dataset is mixed\n",
    "print('\\nValidation class labels: ')\n",
    "print(val_y.astype(int))"
   ]
  },
  {
   "cell_type": "markdown",
   "metadata": {},
   "source": [
    "### Tuning the Hyperparameters\n",
    "\n",
    "Let's try to improve the hyperparameters of our new model."
   ]
  },
  {
   "cell_type": "code",
   "execution_count": 87,
   "metadata": {},
   "outputs": [],
   "source": [
    "from sagemaker.tuner import IntegerParameter, ContinuousParameter, HyperparameterTuner\n",
    "\n",
    "xgb_hyperparameter_tuner = HyperparameterTuner(estimator = xgb, # The estimator object to use as the basis\n",
    "                                               objective_metric_name = 'validation:rmse', # The metric used to compare\n",
    "                                               objective_type = 'Minimize', # Minimize or maximize the metric\n",
    "                                               max_jobs = 20, # The total number of models to train\n",
    "                                               max_parallel_jobs = 3, # The number of models to train in parallel\n",
    "                                               hyperparameter_ranges = {\n",
    "                                                    'max_depth': IntegerParameter(3, 13),\n",
    "                                                    'eta'      : ContinuousParameter(0.05, 0.6),\n",
    "                                                    'min_child_weight': IntegerParameter(2, 8),\n",
    "                                                    'subsample': ContinuousParameter(0.5, 0.9),\n",
    "                                                    'gamma': ContinuousParameter(0, 10),\n",
    "                                               })"
   ]
  },
  {
   "cell_type": "code",
   "execution_count": 88,
   "metadata": {},
   "outputs": [
    {
     "name": "stdout",
     "output_type": "stream",
     "text": [
      "..................................................................................................................................................................................................................................................................................!\n"
     ]
    }
   ],
   "source": [
    "xgb_hyperparameter_tuner.fit({'train': s3_input_train, 'validation': s3_input_validation})\n",
    "xgb_hyperparameter_tuner.wait()"
   ]
  },
  {
   "cell_type": "code",
   "execution_count": 89,
   "metadata": {},
   "outputs": [
    {
     "data": {
      "text/plain": [
       "'sagemaker-xgboost-200329-0148-018-5e0343ac'"
      ]
     },
     "execution_count": 89,
     "metadata": {},
     "output_type": "execute_result"
    }
   ],
   "source": [
    "xgb_hyperparameter_tuner.best_training_job()"
   ]
  },
  {
   "cell_type": "code",
   "execution_count": 90,
   "metadata": {},
   "outputs": [
    {
     "name": "stdout",
     "output_type": "stream",
     "text": [
      "2020-03-29 02:10:03 Starting - Preparing the instances for training\n",
      "2020-03-29 02:10:03 Downloading - Downloading input data\n",
      "2020-03-29 02:10:03 Training - Training image download completed. Training in progress.\n",
      "2020-03-29 02:10:03 Uploading - Uploading generated training model\n",
      "2020-03-29 02:10:03 Completed - Training job completed\u001b[34mINFO:sagemaker-containers:Imported framework sagemaker_xgboost_container.training\u001b[0m\n",
      "\u001b[34mINFO:sagemaker-containers:Failed to parse hyperparameter _tuning_objective_metric value validation:rmse to Json.\u001b[0m\n",
      "\u001b[34mReturning the value itself\u001b[0m\n",
      "\u001b[34mINFO:sagemaker-containers:Failed to parse hyperparameter objective value reg:squarederror to Json.\u001b[0m\n",
      "\u001b[34mReturning the value itself\u001b[0m\n",
      "\u001b[34mINFO:sagemaker-containers:No GPUs detected (normal if no gpus installed)\u001b[0m\n",
      "\u001b[34mINFO:sagemaker_xgboost_container.training:Running XGBoost Sagemaker in algorithm mode\u001b[0m\n",
      "\u001b[34mINFO:root:Determined delimiter of CSV input is ','\u001b[0m\n",
      "\u001b[34mINFO:root:Determined delimiter of CSV input is ','\u001b[0m\n",
      "\u001b[34mINFO:root:Determined delimiter of CSV input is ','\u001b[0m\n",
      "\u001b[34m[02:09:52] 44x40 matrix with 1760 entries loaded from /opt/ml/input/data/train?format=csv&label_column=0&delimiter=,\u001b[0m\n",
      "\u001b[34mINFO:root:Determined delimiter of CSV input is ','\u001b[0m\n",
      "\u001b[34m[02:09:52] 11x40 matrix with 440 entries loaded from /opt/ml/input/data/validation?format=csv&label_column=0&delimiter=,\u001b[0m\n",
      "\u001b[34mINFO:root:Single node training.\u001b[0m\n",
      "\u001b[34mINFO:root:Setting up HPO optimized metric to be : rmse\u001b[0m\n",
      "\u001b[34mINFO:root:Train matrix has 44 rows\u001b[0m\n",
      "\u001b[34mINFO:root:Validation matrix has 11 rows\u001b[0m\n",
      "\u001b[34m[0]#011train-rmse:0.409378#011validation-rmse:0.450323\u001b[0m\n",
      "\u001b[34m[1]#011train-rmse:0.379292#011validation-rmse:0.466927\u001b[0m\n",
      "\u001b[34m[2]#011train-rmse:0.328662#011validation-rmse:0.457355\u001b[0m\n",
      "\u001b[34m[3]#011train-rmse:0.296896#011validation-rmse:0.433616\u001b[0m\n",
      "\u001b[34m[4]#011train-rmse:0.274303#011validation-rmse:0.408504\u001b[0m\n",
      "\u001b[34m[5]#011train-rmse:0.274371#011validation-rmse:0.408684\u001b[0m\n",
      "\u001b[34m[6]#011train-rmse:0.274487#011validation-rmse:0.408967\u001b[0m\n",
      "\u001b[34m[7]#011train-rmse:0.274327#011validation-rmse:0.408569\u001b[0m\n",
      "\u001b[34m[8]#011train-rmse:0.274046#011validation-rmse:0.407529\u001b[0m\n",
      "\u001b[34m[9]#011train-rmse:0.274054#011validation-rmse:0.40758\u001b[0m\n",
      "\u001b[34m[10]#011train-rmse:0.274907#011validation-rmse:0.409833\u001b[0m\n",
      "\u001b[34m[11]#011train-rmse:0.274646#011validation-rmse:0.409318\u001b[0m\n",
      "\u001b[34m[12]#011train-rmse:0.275205#011validation-rmse:0.410365\u001b[0m\n",
      "\u001b[34m[13]#011train-rmse:0.275284#011validation-rmse:0.410499\u001b[0m\n",
      "\u001b[34m[14]#011train-rmse:0.275048#011validation-rmse:0.41009\u001b[0m\n",
      "\u001b[34m[15]#011train-rmse:0.275171#011validation-rmse:0.410306\u001b[0m\n",
      "\u001b[34m[16]#011train-rmse:0.27415#011validation-rmse:0.408022\u001b[0m\n",
      "\u001b[34m[17]#011train-rmse:0.274259#011validation-rmse:0.408378\u001b[0m\n",
      "\u001b[34m[18]#011train-rmse:0.27416#011validation-rmse:0.408055\u001b[0m\n",
      "Training seconds: 66\n",
      "Billable seconds: 66\n"
     ]
    }
   ],
   "source": [
    "xgb_attached = sagemaker.estimator.Estimator.attach(xgb_hyperparameter_tuner.best_training_job())"
   ]
  },
  {
   "cell_type": "code",
   "execution_count": 91,
   "metadata": {},
   "outputs": [],
   "source": [
    "xgb_transformer = xgb_attached.transformer(instance_count = 1, instance_type = 'ml.m4.xlarge')"
   ]
  },
  {
   "cell_type": "code",
   "execution_count": 92,
   "metadata": {},
   "outputs": [
    {
     "name": "stdout",
     "output_type": "stream",
     "text": [
      ".....................\n",
      ".\u001b[34m[2020-03-29 02:15:11 +0000] [15] [INFO] Starting gunicorn 19.10.0\u001b[0m\n",
      "\u001b[34m[2020-03-29 02:15:11 +0000] [15] [INFO] Listening at: unix:/tmp/gunicorn.sock (15)\u001b[0m\n",
      "\u001b[34m[2020-03-29 02:15:11 +0000] [15] [INFO] Using worker: gevent\u001b[0m\n",
      "\u001b[34m[2020-03-29 02:15:11 +0000] [22] [INFO] Booting worker with pid: 22\u001b[0m\n",
      "\u001b[34m[2020-03-29 02:15:11 +0000] [23] [INFO] Booting worker with pid: 23\u001b[0m\n",
      "\u001b[34m[2020-03-29 02:15:11 +0000] [27] [INFO] Booting worker with pid: 27\u001b[0m\n",
      "\u001b[35m[2020-03-29 02:15:11 +0000] [15] [INFO] Starting gunicorn 19.10.0\u001b[0m\n",
      "\u001b[35m[2020-03-29 02:15:11 +0000] [15] [INFO] Listening at: unix:/tmp/gunicorn.sock (15)\u001b[0m\n",
      "\u001b[35m[2020-03-29 02:15:11 +0000] [15] [INFO] Using worker: gevent\u001b[0m\n",
      "\u001b[35m[2020-03-29 02:15:11 +0000] [22] [INFO] Booting worker with pid: 22\u001b[0m\n",
      "\u001b[35m[2020-03-29 02:15:11 +0000] [23] [INFO] Booting worker with pid: 23\u001b[0m\n",
      "\u001b[35m[2020-03-29 02:15:11 +0000] [27] [INFO] Booting worker with pid: 27\u001b[0m\n",
      "\u001b[34m[2020-03-29 02:15:11 +0000] [31] [INFO] Booting worker with pid: 31\u001b[0m\n",
      "\u001b[35m[2020-03-29 02:15:11 +0000] [31] [INFO] Booting worker with pid: 31\u001b[0m\n",
      "\u001b[34m[2020-03-29:02:15:17:INFO] No GPUs detected (normal if no gpus installed)\u001b[0m\n",
      "\u001b[35m[2020-03-29:02:15:17:INFO] No GPUs detected (normal if no gpus installed)\u001b[0m\n",
      "\u001b[34m169.254.255.130 - - [29/Mar/2020:02:15:17 +0000] \"GET /ping HTTP/1.1\" 200 0 \"-\" \"Go-http-client/1.1\"\u001b[0m\n",
      "\u001b[34m[2020-03-29:02:15:17:INFO] No GPUs detected (normal if no gpus installed)\u001b[0m\n",
      "\u001b[34m169.254.255.130 - - [29/Mar/2020:02:15:17 +0000] \"GET /execution-parameters HTTP/1.1\" 200 84 \"-\" \"Go-http-client/1.1\"\u001b[0m\n",
      "\u001b[34m[2020-03-29:02:15:17:INFO] No GPUs detected (normal if no gpus installed)\u001b[0m\n",
      "\u001b[34m[2020-03-29:02:15:17:INFO] Determined delimiter of CSV input is ','\u001b[0m\n",
      "\u001b[34m169.254.255.130 - - [29/Mar/2020:02:15:17 +0000] \"POST /invocations HTTP/1.1\" 200 269 \"-\" \"Go-http-client/1.1\"\u001b[0m\n",
      "\u001b[35m169.254.255.130 - - [29/Mar/2020:02:15:17 +0000] \"GET /ping HTTP/1.1\" 200 0 \"-\" \"Go-http-client/1.1\"\u001b[0m\n",
      "\u001b[35m[2020-03-29:02:15:17:INFO] No GPUs detected (normal if no gpus installed)\u001b[0m\n",
      "\u001b[35m169.254.255.130 - - [29/Mar/2020:02:15:17 +0000] \"GET /execution-parameters HTTP/1.1\" 200 84 \"-\" \"Go-http-client/1.1\"\u001b[0m\n",
      "\u001b[35m[2020-03-29:02:15:17:INFO] No GPUs detected (normal if no gpus installed)\u001b[0m\n",
      "\u001b[35m[2020-03-29:02:15:17:INFO] Determined delimiter of CSV input is ','\u001b[0m\n",
      "\u001b[35m169.254.255.130 - - [29/Mar/2020:02:15:17 +0000] \"POST /invocations HTTP/1.1\" 200 269 \"-\" \"Go-http-client/1.1\"\u001b[0m\n",
      "\u001b[32m2020-03-29T02:15:17.711:[sagemaker logs]: MaxConcurrentTransforms=4, MaxPayloadInMB=6, BatchStrategy=MULTI_RECORD\u001b[0m\n"
     ]
    }
   ],
   "source": [
    "xgb_transformer.transform(test_location, content_type='text/csv', split_type='Line')\n",
    "xgb_transformer.wait()"
   ]
  },
  {
   "cell_type": "code",
   "execution_count": 93,
   "metadata": {},
   "outputs": [
    {
     "name": "stdout",
     "output_type": "stream",
     "text": [
      "Completed 269 Bytes/269 Bytes (4.9 KiB/s) with 1 file(s) remaining\r",
      "download: s3://sagemaker-eu-west-1-384935747368/sagemaker-xgboost-200329-0148-018-5e034-2020-03-29-02-11-47-612/test.csv.out to data/test.csv.out\r\n"
     ]
    }
   ],
   "source": [
    "!aws s3 cp --recursive $xgb_transformer.output_path $data_dir"
   ]
  },
  {
   "cell_type": "code",
   "execution_count": 94,
   "metadata": {},
   "outputs": [],
   "source": [
    "pred_y = pd.read_csv(os.path.join(data_dir, 'test.csv.out'), header=None)"
   ]
  },
  {
   "cell_type": "markdown",
   "metadata": {},
   "source": [
    "We can see below the accuracy after a hyperparameter tuning job of our new binary classification."
   ]
  },
  {
   "cell_type": "code",
   "execution_count": 95,
   "metadata": {},
   "outputs": [
    {
     "data": {
      "text/plain": [
       "0.5"
      ]
     },
     "execution_count": 95,
     "metadata": {},
     "output_type": "execute_result"
    }
   ],
   "source": [
    "from sklearn.metrics import accuracy_score\n",
    "\n",
    "ground = test_y.astype(int)\n",
    "results = pred_y.values.flatten().astype(int)\n",
    "\n",
    "accuracy_score(ground, results)"
   ]
  },
  {
   "cell_type": "code",
   "execution_count": 96,
   "metadata": {},
   "outputs": [
    {
     "name": "stdout",
     "output_type": "stream",
     "text": [
      "\n",
      "Predicted class labels: \n",
      "[0 0 0 0 0 0 0 0 0 0 0 0 0 0]\n",
      "\n",
      "True class labels: \n",
      "[0 0 1 0 1 1 0 1 0 0 0 1 1 1]\n"
     ]
    }
   ],
   "source": [
    "## print out the array of predicted and true labels\n",
    "print('\\nPredicted class labels: ')\n",
    "print(results)\n",
    "print('\\nTrue class labels: ')\n",
    "print(ground)"
   ]
  },
  {
   "cell_type": "code",
   "execution_count": 97,
   "metadata": {},
   "outputs": [
    {
     "name": "stdout",
     "output_type": "stream",
     "text": [
      "\n",
      "Validation class labels: \n",
      "[0 1 0 1 1 0 0 1 0 0 1]\n"
     ]
    }
   ],
   "source": [
    "# check if the validation dataset is mixed\n",
    "print('\\nValidation class labels: ')\n",
    "print(val_y.astype(int))"
   ]
  },
  {
   "cell_type": "markdown",
   "metadata": {},
   "source": [
    "## 2.6 Deploy the model\n",
    "\n",
    "We will deploy now an API endpoint with our favourite trained model."
   ]
  },
  {
   "cell_type": "code",
   "execution_count": 150,
   "metadata": {},
   "outputs": [
    {
     "name": "stderr",
     "output_type": "stream",
     "text": [
      "WARNING:sagemaker:Using already existing model: sagemaker-xgboost-2020-03-29-03-10-59-734\n"
     ]
    },
    {
     "name": "stdout",
     "output_type": "stream",
     "text": [
      "-------------!"
     ]
    }
   ],
   "source": [
    "# Deploy the trained model\n",
    "\n",
    "xgb_predictor = xgb.deploy(initial_instance_count = 1, instance_type = 'ml.m4.xlarge')"
   ]
  },
  {
   "cell_type": "code",
   "execution_count": 151,
   "metadata": {},
   "outputs": [
    {
     "data": {
      "text/plain": [
       "'sagemaker-xgboost-2020-03-29-03-10-59-734'"
      ]
     },
     "execution_count": 151,
     "metadata": {},
     "output_type": "execute_result"
    }
   ],
   "source": [
    "xgb_predictor.endpoint"
   ]
  },
  {
   "cell_type": "code",
   "execution_count": 152,
   "metadata": {},
   "outputs": [],
   "source": [
    "from sagemaker.predictor import csv_serializer\n",
    "\n",
    "# We need to tell the endpoint the format of the data we are sending\n",
    "xgb_predictor.content_type = 'text/csv'\n",
    "xgb_predictor.serializer = csv_serializer\n",
    "\n",
    "pred_y = xgb_predictor.predict(pd.DataFrame(test_X).values).decode('utf-8')\n",
    "# predictions is currently a comma delimited string and so we would like to break it up\n",
    "# as a numpy array.\n",
    "pred_y = np.fromstring(pred_y, sep=',')"
   ]
  },
  {
   "cell_type": "code",
   "execution_count": 153,
   "metadata": {},
   "outputs": [
    {
     "data": {
      "text/plain": [
       "0.45454545454545453"
      ]
     },
     "execution_count": 153,
     "metadata": {},
     "output_type": "execute_result"
    }
   ],
   "source": [
    "from sklearn.metrics import accuracy_score\n",
    "accuracy_score(test_y.astype('int'), pred_y.astype('int'))"
   ]
  },
  {
   "cell_type": "markdown",
   "metadata": {},
   "source": [
    "## 2.7 Web application\n",
    "\n",
    "* Input testing\n",
    "* AWS Lambda\n",
    "* HTML web app\n",
    "\n",
    "### Input testing\n",
    "\n",
    "We will create now the web application that will format a new text and send to our model's API to predict the category.\n",
    "\n",
    "The web application is a HTML file with some JS talking to the endpoint.\n",
    "\n",
    "The code that formats the data is hosted on AWS Lambda. We need to place the vocabulary inside our lambda function as well.\n",
    "\n",
    "First let's try a test input string to our endpoint."
   ]
  },
  {
   "cell_type": "code",
   "execution_count": 102,
   "metadata": {},
   "outputs": [],
   "source": [
    "vocab = {'création': 9, 'site': 33, 'web': 36, 'actuel': 0, 'bonjour': 4,\n",
    "         'chez': 6, 'plu': 28, 'import': 18, 'lign': 23, 'besoin': 3, 'être': 39,\n",
    "         'sou': 34, 'gestion': 15, 'tout': 35, 'migrat': 25, 'internet': 20,\n",
    "         'afin': 1, 'fair': 13, 'lien': 22, 'serveur': 31, 'infomaniak': 19,\n",
    "         'wordpress': 37, 'page': 27, 'pouvoir': 29, 'merci': 24, 'mise': 26,\n",
    "         'jour': 21, 'base': 2, 'doit': 10, 'fichier': 14, 'si': 32,\n",
    "         'hébergement': 17, 'domain': 11, 'recherch': 30, 'donné': 12, 'contenu': 8,\n",
    "         'www': 38, 'ch': 5, 'com': 7, 'http': 16}"
   ]
  },
  {
   "cell_type": "code",
   "execution_count": 103,
   "metadata": {},
   "outputs": [],
   "source": [
    "# Replace the content of test_X with any text you want to test\n",
    "test_X = 'Hello, je me suis trompé de migration'\n",
    "test_X = lead_note_to_words(test_X)\n",
    "test_X = ' '.join([str(elem) for elem in test_X]) "
   ]
  },
  {
   "cell_type": "code",
   "execution_count": 104,
   "metadata": {},
   "outputs": [],
   "source": [
    "def bow_encoding(words, vocabulary):\n",
    "    bow = [0] * len(vocabulary) # Start by setting the count for each word in the vocabulary to zero.\n",
    "    for word in words.split():  # For each word in the string\n",
    "        if word in vocabulary:  # If the word is one that occurs in the vocabulary, increase its count.\n",
    "            bow[vocabulary[word]] += 1\n",
    "    return bow"
   ]
  },
  {
   "cell_type": "code",
   "execution_count": 105,
   "metadata": {},
   "outputs": [],
   "source": [
    "bow = bow_encoding(test_X, vocab)"
   ]
  },
  {
   "cell_type": "code",
   "execution_count": 106,
   "metadata": {},
   "outputs": [],
   "source": [
    "endpoint_name = xgb_predictor.endpoint"
   ]
  },
  {
   "cell_type": "code",
   "execution_count": 107,
   "metadata": {},
   "outputs": [],
   "source": [
    "response = session.sagemaker_runtime_client.invoke_endpoint(\n",
    "                                                EndpointName = endpoint_name,\n",
    "                                                ContentType = 'text/csv',\n",
    "                                                Body = ','.join([str(val) for val in bow]).encode('utf-8'))"
   ]
  },
  {
   "cell_type": "code",
   "execution_count": 108,
   "metadata": {
    "scrolled": true
   },
   "outputs": [
    {
     "name": "stdout",
     "output_type": "stream",
     "text": [
      "0.8204420208930969\n"
     ]
    }
   ],
   "source": [
    "print(response['Body'].read().decode('utf-8'))"
   ]
  },
  {
   "cell_type": "markdown",
   "metadata": {},
   "source": [
    "### AWS Lambda\n",
    "\n",
    "Below is the lambda function. Keep in mind to import the folder 'nltk' and 'nltk_data'.\n",
    "\n",
    "You also need to tell Lambda where is the nltk_data folder by adding an environment variable.\n",
    "\n",
    "```json\n",
    "NLTK_DATA ./nltk_data\n",
    "```\n",
    "\n",
    "![AWS Lambda](./img/aws-environment-variables.png)"
   ]
  },
  {
   "cell_type": "markdown",
   "metadata": {},
   "source": [
    "```python\n",
    "\n",
    "import boto3\n",
    "import re\n",
    "import nltk\n",
    "from nltk.corpus import stopwords\n",
    "from nltk.stem.porter import *\n",
    "import json\n",
    "\n",
    "def cleaning_data(data, symbols = False):\n",
    "    data = re.sub(r'([a-zA-Z0-9_.+-]+@[a-zA-Z0-9-]+\\.[a-zA-Z0-9-.]+)', '', data) # Remove email\n",
    "    data = data.replace('\\r', '').replace('\\n', ' ').replace('  ', ' ')\n",
    "    data = re.sub(r'Budget: .* Title: ', '', data) # Remove \"Budget\" \n",
    "    data = re.sub(r' Time limit: .*', '', data) # and \"Time limit\"\n",
    "    data = re.sub(r'  +', ' ', data) # Remove extra space\n",
    "    \n",
    "    if symbols == False:\n",
    "        data = re.sub(r\"[^a-zA-ZÀ-ÿ]\", \" \", data.lower()) # Remove symbols and convert to lower case\n",
    "\n",
    "    return data\n",
    "\n",
    "\n",
    "def lead_note_to_words(note):\n",
    "    # nltk.download(\"stopwords\", quiet=True) # We already added the nltk_data folder manually\n",
    "    stemmer = PorterStemmer()\n",
    "    \n",
    "    data = cleaning_data(note) # Clean the text\n",
    "    words = data.split() # Split string into words\n",
    "\n",
    "    words = [w for w in words if w not in stopwords.words('french')] # Remove stopwords\n",
    "    words = [PorterStemmer().stem(w) for w in words] # stem\n",
    "\n",
    "    return words\n",
    "    \n",
    "\n",
    "def bow_encoding(words, vocabulary):\n",
    "    bow = [0] * len(vocabulary) # Start by setting the count for each word in the vocabulary to zero.\n",
    "    for word in words.split():  # For each word in the string\n",
    "        if word in vocabulary:  # If the word is one that occurs in the vocabulary, increase its count.\n",
    "            bow[vocabulary[word]] += 1\n",
    "    return bow\n",
    "\n",
    "\n",
    "def lambda_handler(event, context):\n",
    "\n",
    "    vocab = {'création': 9, 'site': 33, 'web': 36, 'actuel': 0, 'bonjour': 4,\n",
    "    'chez': 6, 'plu': 28, 'import': 18, 'lign': 23, 'besoin': 3, 'être': 39,\n",
    "    'sou': 34, 'gestion': 15, 'tout': 35, 'migrat': 25, 'internet': 20,\n",
    "    'afin': 1, 'fair': 13, 'lien': 22, 'serveur': 31, 'infomaniak': 19,\n",
    "    'wordpress': 37, 'page': 27, 'pouvoir': 29, 'merci': 24, 'mise': 26,\n",
    "    'jour': 21, 'base': 2, 'doit': 10, 'fichier': 14, 'si': 32,\n",
    "    'hébergement': 17, 'domain': 11, 'recherch': 30, 'donné': 12, 'contenu': 8,\n",
    "    'www': 38, 'ch': 5, 'com': 7, 'http': 16}\n",
    "\n",
    "    words = lead_note_to_words(event['body'])\n",
    "    words = ' '.join([str(elem) for elem in words]) \n",
    "    bow = bow_encoding(words, vocab)\n",
    "\n",
    "    # The SageMaker runtime is what allows us to invoke the endpoint that we've created.\n",
    "    runtime = boto3.Session().client('sagemaker-runtime')\n",
    "\n",
    "    # Now we use the SageMaker runtime to invoke our endpoint, sending the review we were given\n",
    "    response = runtime.invoke_endpoint(EndpointName = 'sagemaker-xgboost-2020-03-28-20-51-47-434',\n",
    "                                       # The name of the endpoint we created\n",
    "                                       ContentType = 'text/csv',\n",
    "                                       Body = ','.join([str(val) for val in bow]).encode('utf-8'))\n",
    "\n",
    "    # The response is an HTTP response whose body contains the result of our inference\n",
    "    result = response['Body'].read().decode('utf-8')\n",
    "\n",
    "    return {\n",
    "        'statusCode' : 200,\n",
    "        'headers' : { 'Content-Type' : 'text/plain', 'Access-Control-Allow-Origin' : '*' },\n",
    "        'body' : str(result)\n",
    "    }\n",
    "\n",
    "```"
   ]
  },
  {
   "cell_type": "markdown",
   "metadata": {},
   "source": [
    "### HTML web app\n",
    "\n",
    "To try the app, download the file index.html and open it in a browser.\n",
    "\n",
    "It should look like that:\n",
    "\n",
    "![web-app](./img/web-app.png)\n",
    "\n",
    "Below an example of text you can try in the app:\n",
    "\n",
    ">Je cherche une personne pour terminer mon site créé avec Opencard vu que la personne qui s'en occupait n'a pas fait les choses correctement, soit, CHF 1'500.- de perdu…\n",
    "Ce site est un site d'information concernant des supports publicitaires (briquets, stylos, T-shirts, affiches publicitaires, etc…) avec demandes d'offres uniquement.\n",
    "Photos et descriptifs (couleurs, dimensions, etc…) de chaque produit.\n",
    "Formulaire de contact.\n",
    "Créer une liste de partenaires avec lien vers leur site."
   ]
  },
  {
   "cell_type": "code",
   "execution_count": 109,
   "metadata": {},
   "outputs": [],
   "source": [
    "# when the endpoint is not needed anymore\n",
    "xgb_predictor.delete_endpoint()"
   ]
  },
  {
   "cell_type": "markdown",
   "metadata": {},
   "source": [
    "# 3. Conclusion\n",
    "\n",
    "* 3.1 Reflection\n",
    "* 3.2 Improvement\n",
    "\n",
    "## 3.1 Reflection\n",
    "\n",
    "The task seemed quite simple in the beginning but actually became much more difficult because of the small size of the dataset.\n",
    "\n",
    "The key to find a good result was to figure out what were the best parameters for the following variables:\n",
    "\n",
    "* Ratio training, validation and test dataset\n",
    "* Size of Bag-of-Words' vocabulary\n",
    "* Hyperparameters\n",
    "\n",
    "The XGBoost model is working fine because we can see that the RMSE measure is decreasing towards the training set. In order to avoid overfitting we provide a validation set. However the model struggles to improve the RMSE of the validation set because of the small size of the dataset.\n",
    "\n",
    "We decided to keep the multiclass trained model for our deployed endpoint API because compared to the binary classifier model it achieves higher accuracy.\n",
    "\n",
    "## 3.2 Improvement\n",
    "\n",
    "Without any doubt, a way to improve our model's accuracy is to grow the dataset. In the future the CRM database will contains more and more leads so it will be possible to train again our model to get a better accuracy.\n",
    "\n",
    "## 3.3 Application\n",
    "\n",
    "The API can now be used in the CRM to automate the sending of the emails. We can either choose to send an email automatically when the category is found or only when the model predicts 'website'. We can send the email manually when the predicted category is other than 'website' because of the low accuracy. The dataset contains many more projects about websites therefore the model is more accurate to label website projects.\n",
    "\n",
    "# 4. References\n",
    "\n",
    "Pafka, S. (2015, May 19). *Benchmarking Random Forest Implementations* Retrieved from<br>\n",
    "    http://datascience.la/benchmarking-random-forest-implementations/"
   ]
  }
 ],
 "metadata": {
  "kernelspec": {
   "display_name": "conda_python3",
   "language": "python",
   "name": "conda_python3"
  },
  "language_info": {
   "codemirror_mode": {
    "name": "ipython",
    "version": 3
   },
   "file_extension": ".py",
   "mimetype": "text/x-python",
   "name": "python",
   "nbconvert_exporter": "python",
   "pygments_lexer": "ipython3",
   "version": "3.6.5"
  }
 },
 "nbformat": 4,
 "nbformat_minor": 4
}
